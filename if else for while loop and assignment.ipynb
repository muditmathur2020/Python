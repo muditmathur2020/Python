{
 "cells": [
  {
   "cell_type": "code",
   "execution_count": 1,
   "id": "07d847bb",
   "metadata": {},
   "outputs": [],
   "source": [
    "a = 10"
   ]
  },
  {
   "cell_type": "code",
   "execution_count": 2,
   "id": "945e94ca",
   "metadata": {},
   "outputs": [
    {
     "name": "stdout",
     "output_type": "stream",
     "text": [
      "a is 10\n"
     ]
    }
   ],
   "source": [
    "if a == 10:\n",
    "    print('a is 10')"
   ]
  },
  {
   "cell_type": "code",
   "execution_count": 4,
   "id": "59703f4e",
   "metadata": {},
   "outputs": [
    {
     "name": "stdout",
     "output_type": "stream",
     "text": [
      "a is less than 20\n"
     ]
    }
   ],
   "source": [
    "a = 10\n",
    "if a < 20:\n",
    "    print('a is less than 20')"
   ]
  },
  {
   "cell_type": "code",
   "execution_count": 5,
   "id": "19e803c0",
   "metadata": {},
   "outputs": [
    {
     "data": {
      "text/plain": [
       "True"
      ]
     },
     "execution_count": 5,
     "metadata": {},
     "output_type": "execute_result"
    }
   ],
   "source": [
    "a<20"
   ]
  },
  {
   "cell_type": "code",
   "execution_count": 7,
   "id": "44f3d5e0",
   "metadata": {},
   "outputs": [],
   "source": [
    "a = 10\n",
    "if a < 20:\n",
    "    pass # Dont want to mention anything in the body"
   ]
  },
  {
   "cell_type": "code",
   "execution_count": 8,
   "id": "6e86670c",
   "metadata": {},
   "outputs": [
    {
     "name": "stdout",
     "output_type": "stream",
     "text": [
      "a is 10\n"
     ]
    }
   ],
   "source": [
    "a = 10\n",
    "if a > 20:\n",
    "    print('a is greater than 20')\n",
    "elif a==10:\n",
    "    print('a is 10')\n",
    "elif a<20:\n",
    "    print('a is less than 20')\n",
    "else:\n",
    "    print('print from else')"
   ]
  },
  {
   "cell_type": "code",
   "execution_count": 9,
   "id": "847d246a",
   "metadata": {},
   "outputs": [
    {
     "name": "stdout",
     "output_type": "stream",
     "text": [
      "a is int\n"
     ]
    }
   ],
   "source": [
    "a = 10\n",
    "if a > 20:\n",
    "    print('a is greater than 20')\n",
    "elif type(a) == int:\n",
    "    print('a is int')\n",
    "elif a<20:\n",
    "    print('a is less than 20')\n",
    "else:\n",
    "    print('print from else')"
   ]
  },
  {
   "cell_type": "code",
   "execution_count": 10,
   "id": "b543e7c6",
   "metadata": {},
   "outputs": [
    {
     "data": {
      "text/plain": [
       "True"
      ]
     },
     "execution_count": 10,
     "metadata": {},
     "output_type": "execute_result"
    }
   ],
   "source": [
    "type(a) == int"
   ]
  },
  {
   "cell_type": "code",
   "execution_count": 14,
   "id": "6d832408",
   "metadata": {},
   "outputs": [
    {
     "name": "stdout",
     "output_type": "stream",
     "text": [
      "1\n",
      "2\n",
      "3\n",
      "4\n",
      "[9, 8, 7]\n",
      "sudh\n",
      "True\n",
      "kumar\n"
     ]
    }
   ],
   "source": [
    "l = [1,2,3,4,[9,8,7],\"sudh\",True,\"kumar\"]\n",
    "for i in l:\n",
    "    print(i)"
   ]
  },
  {
   "cell_type": "code",
   "execution_count": 15,
   "id": "ac019b37",
   "metadata": {},
   "outputs": [
    {
     "name": "stdout",
     "output_type": "stream",
     "text": [
      "sudh\n",
      "kumar\n"
     ]
    }
   ],
   "source": [
    "# Print only string\n",
    "for i in l:\n",
    "    if type(i) == str:\n",
    "        print(i)"
   ]
  },
  {
   "cell_type": "code",
   "execution_count": 17,
   "id": "b5a2b175",
   "metadata": {},
   "outputs": [
    {
     "name": "stdout",
     "output_type": "stream",
     "text": [
      "7\n"
     ]
    }
   ],
   "source": [
    "for n in l:\n",
    "    if type(n) == list:\n",
    "        print(n[2])"
   ]
  },
  {
   "cell_type": "code",
   "execution_count": 18,
   "id": "2f93dbbd",
   "metadata": {},
   "outputs": [
    {
     "name": "stdout",
     "output_type": "stream",
     "text": [
      "s\n",
      "u\n",
      "d\n",
      "h\n",
      " \n",
      "k\n",
      "u\n",
      "m\n",
      "a\n",
      "r\n"
     ]
    }
   ],
   "source": [
    "s = 'sudh kumar'\n",
    "\n",
    "for i in s:\n",
    "    print(i)"
   ]
  },
  {
   "cell_type": "code",
   "execution_count": 20,
   "id": "e41dd9f1",
   "metadata": {},
   "outputs": [
    {
     "data": {
      "text/plain": [
       "[0, 1, 2, 3, 4, 5, 6, 7, 8, 9]"
      ]
     },
     "execution_count": 20,
     "metadata": {},
     "output_type": "execute_result"
    }
   ],
   "source": [
    "list(range(10))"
   ]
  },
  {
   "cell_type": "code",
   "execution_count": 21,
   "id": "8b8401a3",
   "metadata": {},
   "outputs": [
    {
     "name": "stdout",
     "output_type": "stream",
     "text": [
      "0\n",
      "1\n",
      "2\n",
      "3\n",
      "4\n",
      "5\n",
      "6\n",
      "7\n",
      "8\n",
      "9\n"
     ]
    }
   ],
   "source": [
    "for i in range(10):\n",
    "    print(i)"
   ]
  },
  {
   "cell_type": "code",
   "execution_count": 23,
   "id": "a3f6ae81",
   "metadata": {},
   "outputs": [],
   "source": [
    "# Nested for loop"
   ]
  },
  {
   "cell_type": "code",
   "execution_count": 24,
   "id": "7c5e6480",
   "metadata": {},
   "outputs": [
    {
     "name": "stdout",
     "output_type": "stream",
     "text": [
      "[9, 8, 7]\n",
      "9\n",
      "8\n",
      "7\n"
     ]
    }
   ],
   "source": [
    "for i in l:\n",
    "    if type(i) == list:\n",
    "        print(i)\n",
    "        for j in i:\n",
    "            print(j)"
   ]
  },
  {
   "cell_type": "code",
   "execution_count": 27,
   "id": "7258b218",
   "metadata": {},
   "outputs": [
    {
     "name": "stdout",
     "output_type": "stream",
     "text": [
      "10\n",
      ".\n",
      "..\n",
      "...\n",
      "....\n",
      ".....\n",
      "......\n",
      ".......\n",
      "........\n",
      ".........\n",
      "..........\n"
     ]
    }
   ],
   "source": [
    "n = int(input())\n",
    "for i in range(n):\n",
    "    for j in range(0,i+1):\n",
    "        print('.',end='')\n",
    "    print()"
   ]
  },
  {
   "cell_type": "markdown",
   "id": "5d1c6a76",
   "metadata": {},
   "source": [
    "# Assignment 1 - sudhanshu"
   ]
  },
  {
   "cell_type": "code",
   "execution_count": 34,
   "id": "471b716d",
   "metadata": {},
   "outputs": [
    {
     "name": "stdout",
     "output_type": "stream",
     "text": [
      "5\n",
      "  . \n",
      " . . \n",
      ". . . \n",
      " . . \n",
      "  . \n"
     ]
    }
   ],
   "source": [
    "# n = 5\n",
    "n = int(input()) \n",
    "r = 1\n",
    "spaces = n//2\n",
    "no_of_dots = 1\n",
    "while r<=n:\n",
    "    # Print spaces\n",
    "    for i in range(spaces):\n",
    "        print(\" \",end=\"\")\n",
    "    \n",
    "    # Print dots\n",
    "    for i in range(no_of_dots):\n",
    "        print(\". \",end=\"\")\n",
    "        \n",
    "    print()\n",
    "    if r <= n//2:\n",
    "        spaces -=1\n",
    "        no_of_dots +=1\n",
    "    else:\n",
    "        spaces +=1\n",
    "        no_of_dots-=1  \n",
    "    r+=1"
   ]
  },
  {
   "cell_type": "markdown",
   "id": "faa64fbb",
   "metadata": {},
   "source": [
    "# Assignment 2 - sudhanshu"
   ]
  },
  {
   "cell_type": "code",
   "execution_count": 28,
   "id": "f3d80d11",
   "metadata": {},
   "outputs": [
    {
     "data": {
      "text/plain": [
       "[[1, 1, 2, 2, 3, 3], [2, 4, 2, 2, 5], [1, 5, 8, 8, 2]]"
      ]
     },
     "execution_count": 28,
     "metadata": {},
     "output_type": "execute_result"
    }
   ],
   "source": [
    "l = [[1,1,2,2,3,3],[2,4,2,2,5],[1,5,8,8,2]]\n",
    "l"
   ]
  },
  {
   "cell_type": "code",
   "execution_count": 29,
   "id": "2b4334e1",
   "metadata": {},
   "outputs": [
    {
     "name": "stdout",
     "output_type": "stream",
     "text": [
      "1 -> 2\n",
      "2 -> 2\n",
      "3 -> 2\n",
      "2 -> 3\n",
      "8 -> 2\n"
     ]
    }
   ],
   "source": [
    "for i in l:\n",
    "    for j in set(i):\n",
    "        freq = i.count(j)\n",
    "        if freq>=2:\n",
    "            print(j,'->',freq)"
   ]
  }
 ],
 "metadata": {
  "kernelspec": {
   "display_name": "Python 3",
   "language": "python",
   "name": "python3"
  },
  "language_info": {
   "codemirror_mode": {
    "name": "ipython",
    "version": 3
   },
   "file_extension": ".py",
   "mimetype": "text/x-python",
   "name": "python",
   "nbconvert_exporter": "python",
   "pygments_lexer": "ipython3",
   "version": "3.8.8"
  }
 },
 "nbformat": 4,
 "nbformat_minor": 5
}
