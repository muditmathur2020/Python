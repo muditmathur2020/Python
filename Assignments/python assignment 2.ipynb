{
 "cells": [
  {
   "cell_type": "markdown",
   "id": "b49f7609",
   "metadata": {},
   "source": [
    "# Question 1"
   ]
  },
  {
   "cell_type": "code",
   "execution_count": 1,
   "id": "7e380f03",
   "metadata": {},
   "outputs": [
    {
     "name": "stdout",
     "output_type": "stream",
     "text": [
      "9\n",
      "*\n",
      "**\n",
      "***\n",
      "****\n",
      "*****\n",
      "****\n",
      "***\n",
      "**\n",
      "*\n"
     ]
    }
   ],
   "source": [
    "n = int(input())\n",
    "row = 1\n",
    "stars_to_print = 1\n",
    "while row<=n:\n",
    "    # Print stars\n",
    "    for i in range(stars_to_print):\n",
    "        print(\"*\",end=\"\")\n",
    "    \n",
    "    print()\n",
    "    if row<=n//2:\n",
    "        stars_to_print+=1\n",
    "    else:\n",
    "        stars_to_print-=1\n",
    "    \n",
    "    row+=1"
   ]
  },
  {
   "cell_type": "markdown",
   "id": "7d1f14a4",
   "metadata": {},
   "source": [
    "# Question 2"
   ]
  },
  {
   "cell_type": "code",
   "execution_count": 2,
   "id": "f5fc508a",
   "metadata": {},
   "outputs": [
    {
     "name": "stdout",
     "output_type": "stream",
     "text": [
      "ineuron\n",
      "norueni\n"
     ]
    }
   ],
   "source": [
    "n = input()\n",
    "print(n[::-1])"
   ]
  }
 ],
 "metadata": {
  "kernelspec": {
   "display_name": "Python 3",
   "language": "python",
   "name": "python3"
  },
  "language_info": {
   "codemirror_mode": {
    "name": "ipython",
    "version": 3
   },
   "file_extension": ".py",
   "mimetype": "text/x-python",
   "name": "python",
   "nbconvert_exporter": "python",
   "pygments_lexer": "ipython3",
   "version": "3.8.8"
  }
 },
 "nbformat": 4,
 "nbformat_minor": 5
}
