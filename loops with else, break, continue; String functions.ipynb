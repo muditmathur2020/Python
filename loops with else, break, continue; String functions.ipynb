{
 "cells": [
  {
   "cell_type": "code",
   "execution_count": 6,
   "id": "6aa8e63c",
   "metadata": {},
   "outputs": [
    {
     "name": "stdout",
     "output_type": "stream",
     "text": [
      "Sudh\n",
      "on success..\n"
     ]
    }
   ],
   "source": [
    "l = [1,2,3,4,5,'Sudh']\n",
    "for i in l:\n",
    "    if type(i) == str:\n",
    "        print(i)\n",
    "else:\n",
    "    print('on success..')"
   ]
  },
  {
   "cell_type": "markdown",
   "id": "994e6ff7",
   "metadata": {},
   "source": [
    "In Python, while-else and for-else exists"
   ]
  },
  {
   "cell_type": "code",
   "execution_count": 7,
   "id": "f8df29ba",
   "metadata": {},
   "outputs": [
    {
     "name": "stdout",
     "output_type": "stream",
     "text": [
      "1\n",
      "2\n",
      "3\n",
      "4\n",
      "on success..\n"
     ]
    }
   ],
   "source": [
    "i = 1\n",
    "n = 5\n",
    "while i<n:\n",
    "    print(i)\n",
    "    i=i+1\n",
    "else:\n",
    "    print('on success..')"
   ]
  },
  {
   "cell_type": "code",
   "execution_count": 9,
   "id": "0bfaaa81",
   "metadata": {},
   "outputs": [
    {
     "name": "stdout",
     "output_type": "stream",
     "text": [
      "1\n",
      "2\n",
      "3\n",
      "4\n",
      "5\n"
     ]
    }
   ],
   "source": [
    "x=1\n",
    "while x<10:\n",
    "    print(x)\n",
    "    if x==5:\n",
    "        break\n",
    "    x=x+1\n",
    "else:\n",
    "    print('on success..') # This will not run because loop execution was interupted because of break"
   ]
  },
  {
   "cell_type": "code",
   "execution_count": 14,
   "id": "e37c4f98",
   "metadata": {},
   "outputs": [
    {
     "name": "stdout",
     "output_type": "stream",
     "text": [
      "1 1\n",
      "2 2\n",
      "2 3\n",
      "2 4\n",
      "on success inner..\n",
      "on success inner..\n",
      "on success inner..\n",
      "on success outer..\n"
     ]
    }
   ],
   "source": [
    "i=1\n",
    "j=1\n",
    "while i<5:\n",
    "    while j<5:\n",
    "        if i==1 and j==2:\n",
    "            break\n",
    "        print(i,j)\n",
    "        j=j+1\n",
    "    else:\n",
    "        print('on success inner..')\n",
    "    i=i+1\n",
    "else:\n",
    "    print('on success outer..')"
   ]
  },
  {
   "cell_type": "code",
   "execution_count": 17,
   "id": "a5daebb5",
   "metadata": {},
   "outputs": [
    {
     "name": "stdout",
     "output_type": "stream",
     "text": [
      "4\n",
      "5\n",
      "7\n",
      "8\n",
      "9\n"
     ]
    }
   ],
   "source": [
    "i = 4\n",
    "n = 10\n",
    "while i<n:\n",
    "    if i==6:\n",
    "        i=i+1\n",
    "        continue\n",
    "    print(i)\n",
    "    i=i+1"
   ]
  },
  {
   "cell_type": "code",
   "execution_count": 18,
   "id": "563e425f",
   "metadata": {},
   "outputs": [
    {
     "name": "stdout",
     "output_type": "stream",
     "text": [
      "sudh\n",
      "kumar\n",
      "1\n",
      "2\n",
      "3\n",
      "4\n",
      "6\n"
     ]
    }
   ],
   "source": [
    "l = [\"sudh\",\"kumar\",1,2,3,4,5,6]\n",
    "for i in l:\n",
    "    if i==5:\n",
    "        continue\n",
    "    print(i)"
   ]
  },
  {
   "cell_type": "code",
   "execution_count": 26,
   "id": "bd294ff1",
   "metadata": {},
   "outputs": [
    {
     "data": {
      "text/plain": [
       "2"
      ]
     },
     "execution_count": 26,
     "metadata": {},
     "output_type": "execute_result"
    }
   ],
   "source": [
    "max(1,2)"
   ]
  },
  {
   "cell_type": "code",
   "execution_count": 20,
   "id": "a8c5be6f",
   "metadata": {},
   "outputs": [
    {
     "data": {
      "text/plain": [
       "7"
      ]
     },
     "execution_count": 20,
     "metadata": {},
     "output_type": "execute_result"
    }
   ],
   "source": [
    "s = \"ineuron\"\n",
    "len(s)"
   ]
  },
  {
   "cell_type": "code",
   "execution_count": 29,
   "id": "8fc2b934",
   "metadata": {},
   "outputs": [
    {
     "data": {
      "text/plain": [
       "1"
      ]
     },
     "execution_count": 29,
     "metadata": {},
     "output_type": "execute_result"
    }
   ],
   "source": [
    "s.find('n') # Returns the index of first occurence"
   ]
  },
  {
   "cell_type": "code",
   "execution_count": 30,
   "id": "6db7991f",
   "metadata": {},
   "outputs": [
    {
     "data": {
      "text/plain": [
       "2"
      ]
     },
     "execution_count": 30,
     "metadata": {},
     "output_type": "execute_result"
    }
   ],
   "source": [
    "s.find('eu')"
   ]
  },
  {
   "cell_type": "code",
   "execution_count": 32,
   "id": "f4da131f",
   "metadata": {},
   "outputs": [
    {
     "data": {
      "text/plain": [
       "2"
      ]
     },
     "execution_count": 32,
     "metadata": {},
     "output_type": "execute_result"
    }
   ],
   "source": [
    "s.count('n') # Count of n"
   ]
  },
  {
   "cell_type": "code",
   "execution_count": 33,
   "id": "8bbe65ca",
   "metadata": {},
   "outputs": [
    {
     "data": {
      "text/plain": [
       "0"
      ]
     },
     "execution_count": 33,
     "metadata": {},
     "output_type": "execute_result"
    }
   ],
   "source": [
    "s.count('b')"
   ]
  },
  {
   "cell_type": "code",
   "execution_count": 36,
   "id": "c9c3ca7c",
   "metadata": {},
   "outputs": [
    {
     "data": {
      "text/plain": [
       "['ine', 'ron']"
      ]
     },
     "execution_count": 36,
     "metadata": {},
     "output_type": "execute_result"
    }
   ],
   "source": [
    "s.split('u')"
   ]
  },
  {
   "cell_type": "code",
   "execution_count": 37,
   "id": "9bac00a9",
   "metadata": {},
   "outputs": [
    {
     "data": {
      "text/plain": [
       "['ineuron']"
      ]
     },
     "execution_count": 37,
     "metadata": {},
     "output_type": "execute_result"
    }
   ],
   "source": [
    "s.split('d')"
   ]
  },
  {
   "cell_type": "code",
   "execution_count": 38,
   "id": "e4a77761",
   "metadata": {},
   "outputs": [
    {
     "data": {
      "text/plain": [
       "'INEURON'"
      ]
     },
     "execution_count": 38,
     "metadata": {},
     "output_type": "execute_result"
    }
   ],
   "source": [
    "s.upper()"
   ]
  },
  {
   "cell_type": "code",
   "execution_count": 39,
   "id": "d2116301",
   "metadata": {},
   "outputs": [
    {
     "data": {
      "text/plain": [
       "'ineuron'"
      ]
     },
     "execution_count": 39,
     "metadata": {},
     "output_type": "execute_result"
    }
   ],
   "source": [
    "s.lower()"
   ]
  },
  {
   "cell_type": "code",
   "execution_count": 41,
   "id": "c6f63be2",
   "metadata": {},
   "outputs": [],
   "source": [
    "s = \"IneuroN\""
   ]
  },
  {
   "cell_type": "code",
   "execution_count": 42,
   "id": "be2b20d3",
   "metadata": {},
   "outputs": [
    {
     "data": {
      "text/plain": [
       "'iNEUROn'"
      ]
     },
     "execution_count": 42,
     "metadata": {},
     "output_type": "execute_result"
    }
   ],
   "source": [
    "s.swapcase()"
   ]
  },
  {
   "cell_type": "code",
   "execution_count": 44,
   "id": "814d5325",
   "metadata": {},
   "outputs": [
    {
     "data": {
      "text/plain": [
       "'Sudhanshu'"
      ]
     },
     "execution_count": 44,
     "metadata": {},
     "output_type": "execute_result"
    }
   ],
   "source": [
    "s = \"sudhanshu\"\n",
    "s.capitalize()"
   ]
  },
  {
   "cell_type": "code",
   "execution_count": 45,
   "id": "c09844be",
   "metadata": {},
   "outputs": [
    {
     "data": {
      "text/plain": [
       "['h', 'd', 'u', 's']"
      ]
     },
     "execution_count": 45,
     "metadata": {},
     "output_type": "execute_result"
    }
   ],
   "source": [
    "s = \"sudh\"\n",
    "list(reversed(s))"
   ]
  },
  {
   "cell_type": "code",
   "execution_count": 47,
   "id": "d622cd4e",
   "metadata": {},
   "outputs": [
    {
     "data": {
      "text/plain": [
       "'hdus'"
      ]
     },
     "execution_count": 47,
     "metadata": {},
     "output_type": "execute_result"
    }
   ],
   "source": [
    "s[::-1]"
   ]
  },
  {
   "cell_type": "code",
   "execution_count": 48,
   "id": "35aa61bd",
   "metadata": {},
   "outputs": [
    {
     "data": {
      "text/plain": [
       "'ineuron'"
      ]
     },
     "execution_count": 48,
     "metadata": {},
     "output_type": "execute_result"
    }
   ],
   "source": [
    "s = \"ineuron\"\n",
    "s.strip()"
   ]
  },
  {
   "cell_type": "code",
   "execution_count": 51,
   "id": "66cc9d9f",
   "metadata": {},
   "outputs": [
    {
     "data": {
      "text/plain": [
       "'ineuron'"
      ]
     },
     "execution_count": 51,
     "metadata": {},
     "output_type": "execute_result"
    }
   ],
   "source": [
    "s = \"        ineuron\"\n",
    "s.strip()"
   ]
  },
  {
   "cell_type": "code",
   "execution_count": 52,
   "id": "6d621cf3",
   "metadata": {},
   "outputs": [
    {
     "data": {
      "text/plain": [
       "'ineuron-mudit'"
      ]
     },
     "execution_count": 52,
     "metadata": {},
     "output_type": "execute_result"
    }
   ],
   "source": [
    "s = \"      ineuron-mudit    \"\n",
    "s.strip()"
   ]
  },
  {
   "cell_type": "code",
   "execution_count": 53,
   "id": "fc7c5105",
   "metadata": {},
   "outputs": [
    {
     "data": {
      "text/plain": [
       "'ineuron-mudit    '"
      ]
     },
     "execution_count": 53,
     "metadata": {},
     "output_type": "execute_result"
    }
   ],
   "source": [
    "s.lstrip()"
   ]
  },
  {
   "cell_type": "code",
   "execution_count": 54,
   "id": "9518432e",
   "metadata": {},
   "outputs": [
    {
     "data": {
      "text/plain": [
       "'      ineuron-mudit'"
      ]
     },
     "execution_count": 54,
     "metadata": {},
     "output_type": "execute_result"
    }
   ],
   "source": [
    "s.rstrip()"
   ]
  },
  {
   "cell_type": "code",
   "execution_count": 55,
   "id": "b12dffe9",
   "metadata": {},
   "outputs": [
    {
     "data": {
      "text/plain": [
       "'w e l c o m e   t o   i n e u r o n'"
      ]
     },
     "execution_count": 55,
     "metadata": {},
     "output_type": "execute_result"
    }
   ],
   "source": [
    "\" \".join(\"welcome to ineuron\")"
   ]
  },
  {
   "cell_type": "code",
   "execution_count": 56,
   "id": "b2813c8d",
   "metadata": {},
   "outputs": [
    {
     "data": {
      "text/plain": [
       "'rudh'"
      ]
     },
     "execution_count": 56,
     "metadata": {},
     "output_type": "execute_result"
    }
   ],
   "source": [
    "s = \"sudh\"\n",
    "s.replace('s','r')"
   ]
  },
  {
   "cell_type": "code",
   "execution_count": 57,
   "id": "c04349c9",
   "metadata": {},
   "outputs": [
    {
     "data": {
      "text/plain": [
       "'xyzdh'"
      ]
     },
     "execution_count": 57,
     "metadata": {},
     "output_type": "execute_result"
    }
   ],
   "source": [
    "s.replace('su','xyz')"
   ]
  },
  {
   "cell_type": "code",
   "execution_count": 59,
   "id": "9cf6965c",
   "metadata": {},
   "outputs": [
    {
     "data": {
      "text/plain": [
       "'hellobcdhello'"
      ]
     },
     "execution_count": 59,
     "metadata": {},
     "output_type": "execute_result"
    }
   ],
   "source": [
    "s = \"abcda\"\n",
    "s.replace('a','hello') # Replace replaces all occurences"
   ]
  },
  {
   "cell_type": "code",
   "execution_count": 60,
   "id": "b4f6a66c",
   "metadata": {},
   "outputs": [
    {
     "data": {
      "text/plain": [
       "'abcda'"
      ]
     },
     "execution_count": 60,
     "metadata": {},
     "output_type": "execute_result"
    }
   ],
   "source": [
    "s"
   ]
  },
  {
   "cell_type": "markdown",
   "id": "3546be71",
   "metadata": {},
   "source": [
    "Replace is not changing the original entity"
   ]
  },
  {
   "cell_type": "markdown",
   "id": "e95700c5",
   "metadata": {},
   "source": [
    "String is an immutable entity"
   ]
  },
  {
   "cell_type": "code",
   "execution_count": 63,
   "id": "3db8ddd2",
   "metadata": {},
   "outputs": [
    {
     "data": {
      "text/plain": [
       "'      ineuron       '"
      ]
     },
     "execution_count": 63,
     "metadata": {},
     "output_type": "execute_result"
    }
   ],
   "source": [
    "s=\"ineuron\"\n",
    "s.center(20)"
   ]
  },
  {
   "cell_type": "code",
   "execution_count": 64,
   "id": "462d7492",
   "metadata": {},
   "outputs": [
    {
     "data": {
      "text/plain": [
       "'ccccccineuronccccccc'"
      ]
     },
     "execution_count": 64,
     "metadata": {},
     "output_type": "execute_result"
    }
   ],
   "source": [
    "s.center(20,'c')"
   ]
  },
  {
   "cell_type": "code",
   "execution_count": 66,
   "id": "ecd0d8a3",
   "metadata": {},
   "outputs": [
    {
     "data": {
      "text/plain": [
       "'******ineuron*******'"
      ]
     },
     "execution_count": 66,
     "metadata": {},
     "output_type": "execute_result"
    }
   ],
   "source": [
    "s.center(20,'*')"
   ]
  },
  {
   "cell_type": "code",
   "execution_count": 67,
   "id": "5ab75861",
   "metadata": {},
   "outputs": [
    {
     "data": {
      "text/plain": [
       "'sudh    ineuron'"
      ]
     },
     "execution_count": 67,
     "metadata": {},
     "output_type": "execute_result"
    }
   ],
   "source": [
    "\"sudh\\tineuron\".expandtabs()"
   ]
  },
  {
   "cell_type": "code",
   "execution_count": 72,
   "id": "00f0f627",
   "metadata": {},
   "outputs": [
    {
     "data": {
      "text/plain": [
       "False"
      ]
     },
     "execution_count": 72,
     "metadata": {},
     "output_type": "execute_result"
    }
   ],
   "source": [
    "s = \"sudh\"\n",
    "s.isupper()"
   ]
  },
  {
   "cell_type": "code",
   "execution_count": 73,
   "id": "955a9bf4",
   "metadata": {},
   "outputs": [
    {
     "data": {
      "text/plain": [
       "True"
      ]
     },
     "execution_count": 73,
     "metadata": {},
     "output_type": "execute_result"
    }
   ],
   "source": [
    "s.islower()"
   ]
  },
  {
   "cell_type": "code",
   "execution_count": 78,
   "id": "13484528",
   "metadata": {},
   "outputs": [
    {
     "data": {
      "text/plain": [
       "True"
      ]
     },
     "execution_count": 78,
     "metadata": {},
     "output_type": "execute_result"
    }
   ],
   "source": [
    "a = '10'\n",
    "a.isdigit()"
   ]
  },
  {
   "cell_type": "code",
   "execution_count": 80,
   "id": "20112c02",
   "metadata": {},
   "outputs": [
    {
     "data": {
      "text/plain": [
       "False"
      ]
     },
     "execution_count": 80,
     "metadata": {},
     "output_type": "execute_result"
    }
   ],
   "source": [
    "s = \"Sudh\"\n",
    "s.isupper()"
   ]
  },
  {
   "cell_type": "code",
   "execution_count": 83,
   "id": "e76e9192",
   "metadata": {},
   "outputs": [
    {
     "data": {
      "text/plain": [
       "False"
      ]
     },
     "execution_count": 83,
     "metadata": {},
     "output_type": "execute_result"
    }
   ],
   "source": [
    "s.islower()"
   ]
  },
  {
   "cell_type": "code",
   "execution_count": 86,
   "id": "3241fc1a",
   "metadata": {},
   "outputs": [
    {
     "data": {
      "text/plain": [
       "False"
      ]
     },
     "execution_count": 86,
     "metadata": {},
     "output_type": "execute_result"
    }
   ],
   "source": [
    "s =\"sudh kumar ineuron\" # This is not what we try to find\n",
    "s.isspace()"
   ]
  },
  {
   "cell_type": "code",
   "execution_count": 88,
   "id": "2581cfa4",
   "metadata": {},
   "outputs": [
    {
     "data": {
      "text/plain": [
       "True"
      ]
     },
     "execution_count": 88,
     "metadata": {},
     "output_type": "execute_result"
    }
   ],
   "source": [
    "s =\" \"\n",
    "s.isspace() # Just check for space"
   ]
  },
  {
   "cell_type": "code",
   "execution_count": 89,
   "id": "203e7879",
   "metadata": {},
   "outputs": [
    {
     "data": {
      "text/plain": [
       "True"
      ]
     },
     "execution_count": 89,
     "metadata": {},
     "output_type": "execute_result"
    }
   ],
   "source": [
    "s=\"sudh kumar\"\n",
    "s.endswith('r')"
   ]
  },
  {
   "cell_type": "code",
   "execution_count": 90,
   "id": "2dd8fa42",
   "metadata": {},
   "outputs": [
    {
     "data": {
      "text/plain": [
       "True"
      ]
     },
     "execution_count": 90,
     "metadata": {},
     "output_type": "execute_result"
    }
   ],
   "source": [
    "s.endswith('mar')"
   ]
  },
  {
   "cell_type": "code",
   "execution_count": 91,
   "id": "a785b712",
   "metadata": {},
   "outputs": [
    {
     "data": {
      "text/plain": [
       "True"
      ]
     },
     "execution_count": 91,
     "metadata": {},
     "output_type": "execute_result"
    }
   ],
   "source": [
    "s.startswith('sud')"
   ]
  },
  {
   "cell_type": "code",
   "execution_count": 92,
   "id": "b89fe0d9",
   "metadata": {},
   "outputs": [
    {
     "data": {
      "text/plain": [
       "False"
      ]
     },
     "execution_count": 92,
     "metadata": {},
     "output_type": "execute_result"
    }
   ],
   "source": [
    "s=\"sudh1234\"\n",
    "s.isalpha()"
   ]
  },
  {
   "cell_type": "code",
   "execution_count": 96,
   "id": "5d901472",
   "metadata": {},
   "outputs": [
    {
     "data": {
      "text/plain": [
       "True"
      ]
     },
     "execution_count": 96,
     "metadata": {},
     "output_type": "execute_result"
    }
   ],
   "source": [
    "s.isalnum() # Check for alpha-numeric "
   ]
  },
  {
   "cell_type": "code",
   "execution_count": 97,
   "id": "aef751f9",
   "metadata": {},
   "outputs": [
    {
     "name": "stdout",
     "output_type": "stream",
     "text": [
      "m\n",
      "y\n",
      " \n",
      "n\n",
      "a\n",
      "m\n",
      "e\n",
      " \n",
      "i\n",
      "s\n",
      " \n",
      "s\n",
      "u\n",
      "d\n",
      "h\n"
     ]
    }
   ],
   "source": [
    "s = \"my name is sudh\"\n",
    "for i in s:\n",
    "    print(i)"
   ]
  },
  {
   "cell_type": "code",
   "execution_count": 98,
   "id": "ecddcb7d",
   "metadata": {},
   "outputs": [
    {
     "name": "stdout",
     "output_type": "stream",
     "text": [
      "h\n",
      "d\n",
      "u\n",
      "s\n",
      " \n",
      "s\n",
      "i\n",
      " \n",
      "e\n",
      "m\n",
      "a\n",
      "n\n",
      " \n",
      "y\n",
      "m\n"
     ]
    }
   ],
   "source": [
    "for i in reversed(s):\n",
    "    print(i)"
   ]
  },
  {
   "cell_type": "code",
   "execution_count": 100,
   "id": "2795dca1",
   "metadata": {},
   "outputs": [
    {
     "name": "stdout",
     "output_type": "stream",
     "text": [
      "norueni\n"
     ]
    }
   ],
   "source": [
    "# Reverse without any function\n",
    "s =\"ineuron\"\n",
    "d=\"\"\n",
    "i=len(s)-1\n",
    "while i>=0:\n",
    "    d+=s[i]\n",
    "    i-=1\n",
    "print(d)"
   ]
  },
  {
   "cell_type": "code",
   "execution_count": 101,
   "id": "6090d354",
   "metadata": {},
   "outputs": [
    {
     "name": "stdout",
     "output_type": "stream",
     "text": [
      "my name is \n"
     ]
    }
   ],
   "source": [
    "i = \"sudh\"\n",
    "print(\"my name is \")"
   ]
  },
  {
   "cell_type": "code",
   "execution_count": 102,
   "id": "571190cf",
   "metadata": {},
   "outputs": [
    {
     "data": {
      "text/plain": [
       "'my name is sudh'"
      ]
     },
     "execution_count": 102,
     "metadata": {},
     "output_type": "execute_result"
    }
   ],
   "source": [
    "\"my name is {}\".format(\"sudh\")"
   ]
  },
  {
   "cell_type": "code",
   "execution_count": 105,
   "id": "4905213a",
   "metadata": {},
   "outputs": [
    {
     "name": "stdout",
     "output_type": "stream",
     "text": [
      "Enter your name mudit\n",
      "my name is mudit\n"
     ]
    }
   ],
   "source": [
    "i = input(\"Enter your name \")\n",
    "print(\"my name is {}\".format(i))"
   ]
  },
  {
   "cell_type": "code",
   "execution_count": 107,
   "id": "175d21ac",
   "metadata": {},
   "outputs": [
    {
     "name": "stdout",
     "output_type": "stream",
     "text": [
      "mudit iit-bombay business-analytics\n",
      "my name is mudit, and my school name is iit-bombay, and my education is business-analytics\n"
     ]
    }
   ],
   "source": [
    "name, school_name, edu = input().split(' ')\n",
    "print(\"my name is {}, and my school name is {}, and my education is {}\".format(name,school_name,edu))"
   ]
  },
  {
   "cell_type": "code",
   "execution_count": 108,
   "id": "fdd72b50",
   "metadata": {},
   "outputs": [
    {
     "data": {
      "text/plain": [
       "7"
      ]
     },
     "execution_count": 108,
     "metadata": {},
     "output_type": "execute_result"
    }
   ],
   "source": [
    "l = [1,2,3,4,5,\"sudh\",\"kumar\"]\n",
    "len(l)"
   ]
  },
  {
   "cell_type": "code",
   "execution_count": 109,
   "id": "47a10292",
   "metadata": {},
   "outputs": [
    {
     "data": {
      "text/plain": [
       "True"
      ]
     },
     "execution_count": 109,
     "metadata": {},
     "output_type": "execute_result"
    }
   ],
   "source": [
    "\"sudh\" in l"
   ]
  },
  {
   "cell_type": "code",
   "execution_count": 110,
   "id": "af8855e5",
   "metadata": {},
   "outputs": [
    {
     "data": {
      "text/plain": [
       "False"
      ]
     },
     "execution_count": 110,
     "metadata": {},
     "output_type": "execute_result"
    }
   ],
   "source": [
    "123 in l"
   ]
  },
  {
   "cell_type": "code",
   "execution_count": 111,
   "id": "434759b2",
   "metadata": {},
   "outputs": [
    {
     "data": {
      "text/plain": [
       "[1, 2, 3, 4, 5, 'sudh', 'kumar']"
      ]
     },
     "execution_count": 111,
     "metadata": {},
     "output_type": "execute_result"
    }
   ],
   "source": [
    "l"
   ]
  },
  {
   "cell_type": "code",
   "execution_count": 112,
   "id": "d0f491d8",
   "metadata": {},
   "outputs": [],
   "source": [
    "l.append('computer vision')"
   ]
  },
  {
   "cell_type": "code",
   "execution_count": 113,
   "id": "8c801b5c",
   "metadata": {},
   "outputs": [
    {
     "data": {
      "text/plain": [
       "[1, 2, 3, 4, 5, 'sudh', 'kumar', 'computer vision']"
      ]
     },
     "execution_count": 113,
     "metadata": {},
     "output_type": "execute_result"
    }
   ],
   "source": [
    "l"
   ]
  },
  {
   "cell_type": "code",
   "execution_count": 114,
   "id": "6fe4f769",
   "metadata": {},
   "outputs": [],
   "source": [
    "l.append('machine learning')"
   ]
  },
  {
   "cell_type": "code",
   "execution_count": 115,
   "id": "ee0516c9",
   "metadata": {},
   "outputs": [
    {
     "data": {
      "text/plain": [
       "[1, 2, 3, 4, 5, 'sudh', 'kumar', 'computer vision', 'machine learning']"
      ]
     },
     "execution_count": 115,
     "metadata": {},
     "output_type": "execute_result"
    }
   ],
   "source": [
    "l"
   ]
  },
  {
   "cell_type": "code",
   "execution_count": 116,
   "id": "5c88d035",
   "metadata": {},
   "outputs": [],
   "source": [
    "l.append([3,4,5,6])"
   ]
  },
  {
   "cell_type": "code",
   "execution_count": 117,
   "id": "5b044180",
   "metadata": {},
   "outputs": [
    {
     "data": {
      "text/plain": [
       "[1,\n",
       " 2,\n",
       " 3,\n",
       " 4,\n",
       " 5,\n",
       " 'sudh',\n",
       " 'kumar',\n",
       " 'computer vision',\n",
       " 'machine learning',\n",
       " [3, 4, 5, 6]]"
      ]
     },
     "execution_count": 117,
     "metadata": {},
     "output_type": "execute_result"
    }
   ],
   "source": [
    "l"
   ]
  },
  {
   "cell_type": "code",
   "execution_count": 120,
   "id": "87975fb5",
   "metadata": {},
   "outputs": [
    {
     "data": {
      "text/plain": [
       "'machine learning'"
      ]
     },
     "execution_count": 120,
     "metadata": {},
     "output_type": "execute_result"
    }
   ],
   "source": [
    "l.pop() # Remove element from tail "
   ]
  },
  {
   "cell_type": "code",
   "execution_count": 121,
   "id": "3b8552a4",
   "metadata": {},
   "outputs": [
    {
     "data": {
      "text/plain": [
       "[1, 2, 3, 4, 5, 'sudh', 'kumar', 'computer vision']"
      ]
     },
     "execution_count": 121,
     "metadata": {},
     "output_type": "execute_result"
    }
   ],
   "source": [
    "l"
   ]
  },
  {
   "cell_type": "code",
   "execution_count": 122,
   "id": "86118376",
   "metadata": {},
   "outputs": [
    {
     "data": {
      "text/plain": [
       "[1, 2, 3, 4, 5, 'sudh', 'computer vision']"
      ]
     },
     "execution_count": 122,
     "metadata": {},
     "output_type": "execute_result"
    }
   ],
   "source": [
    "l.pop(6) # Remove index number\n",
    "l"
   ]
  },
  {
   "cell_type": "code",
   "execution_count": 127,
   "id": "8af94ebb",
   "metadata": {},
   "outputs": [],
   "source": [
    "l.reverse() # Reverse List"
   ]
  },
  {
   "cell_type": "code",
   "execution_count": 128,
   "id": "57841e6f",
   "metadata": {},
   "outputs": [
    {
     "data": {
      "text/plain": [
       "['computer vision', 'sudh', 5, 4, 3, 2, 1]"
      ]
     },
     "execution_count": 128,
     "metadata": {},
     "output_type": "execute_result"
    }
   ],
   "source": [
    "l"
   ]
  },
  {
   "cell_type": "code",
   "execution_count": 129,
   "id": "8d31750c",
   "metadata": {},
   "outputs": [],
   "source": [
    "l.insert(1,'hi') # Insert at index and object"
   ]
  },
  {
   "cell_type": "code",
   "execution_count": 130,
   "id": "f3d0b26e",
   "metadata": {},
   "outputs": [
    {
     "data": {
      "text/plain": [
       "['computer vision', 'hi', 'sudh', 5, 4, 3, 2, 1]"
      ]
     },
     "execution_count": 130,
     "metadata": {},
     "output_type": "execute_result"
    }
   ],
   "source": [
    "l"
   ]
  },
  {
   "cell_type": "code",
   "execution_count": 131,
   "id": "1d919472",
   "metadata": {},
   "outputs": [],
   "source": [
    "l1 = [1,2,3]"
   ]
  },
  {
   "cell_type": "code",
   "execution_count": 132,
   "id": "8b049071",
   "metadata": {},
   "outputs": [
    {
     "data": {
      "text/plain": [
       "['computer vision', 'hi', 'sudh', 5, 4, 3, 2, 1, 1, 2, 3]"
      ]
     },
     "execution_count": 132,
     "metadata": {},
     "output_type": "execute_result"
    }
   ],
   "source": [
    "l+l1"
   ]
  },
  {
   "cell_type": "code",
   "execution_count": 133,
   "id": "b653d307",
   "metadata": {},
   "outputs": [],
   "source": [
    "l.append(l1)"
   ]
  },
  {
   "cell_type": "code",
   "execution_count": 134,
   "id": "ec947915",
   "metadata": {},
   "outputs": [
    {
     "data": {
      "text/plain": [
       "['computer vision', 'hi', 'sudh', 5, 4, 3, 2, 1, [1, 2, 3]]"
      ]
     },
     "execution_count": 134,
     "metadata": {},
     "output_type": "execute_result"
    }
   ],
   "source": [
    "l"
   ]
  },
  {
   "cell_type": "markdown",
   "id": "29609faf",
   "metadata": {},
   "source": [
    "Difference between append, plus"
   ]
  },
  {
   "cell_type": "code",
   "execution_count": 135,
   "id": "563524c2",
   "metadata": {},
   "outputs": [
    {
     "data": {
      "text/plain": [
       "['computer vision', 'hi', 'sudh', 5, 4, 3, 2, 1]"
      ]
     },
     "execution_count": 135,
     "metadata": {},
     "output_type": "execute_result"
    }
   ],
   "source": [
    "l.pop()\n",
    "l"
   ]
  },
  {
   "cell_type": "code",
   "execution_count": 136,
   "id": "cb78f183",
   "metadata": {},
   "outputs": [],
   "source": [
    "l.extend(l1)"
   ]
  },
  {
   "cell_type": "code",
   "execution_count": 137,
   "id": "163aea3a",
   "metadata": {},
   "outputs": [
    {
     "data": {
      "text/plain": [
       "['computer vision', 'hi', 'sudh', 5, 4, 3, 2, 1, 1, 2, 3]"
      ]
     },
     "execution_count": 137,
     "metadata": {},
     "output_type": "execute_result"
    }
   ],
   "source": [
    "l"
   ]
  },
  {
   "cell_type": "code",
   "execution_count": 138,
   "id": "3e650601",
   "metadata": {},
   "outputs": [
    {
     "data": {
      "text/plain": [
       "['my', 'name', 'is', 'sudh']"
      ]
     },
     "execution_count": 138,
     "metadata": {},
     "output_type": "execute_result"
    }
   ],
   "source": [
    "s = \"my name is sudh\"\n",
    "s.split()"
   ]
  },
  {
   "cell_type": "code",
   "execution_count": 139,
   "id": "e3d69017",
   "metadata": {},
   "outputs": [],
   "source": [
    "l = [1,2,3,4,5]\n",
    "l1 = []\n",
    "for i in l:\n",
    "    l1.append(i**2)"
   ]
  },
  {
   "cell_type": "code",
   "execution_count": 140,
   "id": "a6cd9506",
   "metadata": {},
   "outputs": [
    {
     "data": {
      "text/plain": [
       "[1, 4, 9, 16, 25]"
      ]
     },
     "execution_count": 140,
     "metadata": {},
     "output_type": "execute_result"
    }
   ],
   "source": [
    "l1"
   ]
  },
  {
   "cell_type": "code",
   "execution_count": 142,
   "id": "fc85b0a1",
   "metadata": {},
   "outputs": [
    {
     "data": {
      "text/plain": [
       "[1, 4, 9, 16, 25]"
      ]
     },
     "execution_count": 142,
     "metadata": {},
     "output_type": "execute_result"
    }
   ],
   "source": [
    "[i**2 for i in l] # List comprehension"
   ]
  },
  {
   "cell_type": "code",
   "execution_count": 144,
   "id": "fe4995d5",
   "metadata": {},
   "outputs": [
    {
     "data": {
      "text/plain": [
       "['s', 'u', 'd', 'h']"
      ]
     },
     "execution_count": 144,
     "metadata": {},
     "output_type": "execute_result"
    }
   ],
   "source": [
    "s= \"sudh\"\n",
    "[i for i in s]"
   ]
  },
  {
   "cell_type": "code",
   "execution_count": 145,
   "id": "e4850c1e",
   "metadata": {},
   "outputs": [],
   "source": [
    "# Try to create a separate list with even and odd number of size 10 and perform element wise addition operation"
   ]
  },
  {
   "cell_type": "code",
   "execution_count": 153,
   "id": "9ce44f3e",
   "metadata": {},
   "outputs": [
    {
     "name": "stdout",
     "output_type": "stream",
     "text": [
      "[0, 2, 4, 6, 8, 10, 12, 14, 16, 18]\n",
      "[1, 3, 5, 7, 9, 11, 13, 15, 17, 19]\n",
      "[1, 5, 9, 13, 17, 21, 25, 29, 33, 37]\n"
     ]
    }
   ],
   "source": [
    "even = [i for i in range(20) if i%2==0]\n",
    "odd = [i for i in range(20) if i%2!=0]\n",
    "print(even)\n",
    "print(odd)\n",
    "l3 = []\n",
    "for i in range(10):\n",
    "    l3.append(even[i]+odd[i])\n",
    "print(l3)"
   ]
  },
  {
   "cell_type": "markdown",
   "id": "339cbb9c",
   "metadata": {},
   "source": [
    "# Question 1"
   ]
  },
  {
   "cell_type": "markdown",
   "id": "8f1ed594",
   "metadata": {},
   "source": [
    "Write a list comprehension operation for generating list of all the alphabatical character in lower case and upper case"
   ]
  },
  {
   "cell_type": "code",
   "execution_count": 174,
   "id": "f3f4390e",
   "metadata": {},
   "outputs": [],
   "source": [
    "l1 = [chr(i) for i in range(97,97+26)]\n",
    "l2 = [chr(i) for i in range(65,65+26)]\n",
    "# We use chr - int to char\n",
    "# ord - char to int"
   ]
  },
  {
   "cell_type": "code",
   "execution_count": 176,
   "id": "efe916e7",
   "metadata": {},
   "outputs": [
    {
     "name": "stdout",
     "output_type": "stream",
     "text": [
      "['a', 'b', 'c', 'd', 'e', 'f', 'g', 'h', 'i', 'j', 'k', 'l', 'm', 'n', 'o', 'p', 'q', 'r', 's', 't', 'u', 'v', 'w', 'x', 'y', 'z']\n",
      "['A', 'B', 'C', 'D', 'E', 'F', 'G', 'H', 'I', 'J', 'K', 'L', 'M', 'N', 'O', 'P', 'Q', 'R', 'S', 'T', 'U', 'V', 'W', 'X', 'Y', 'Z']\n"
     ]
    }
   ],
   "source": [
    "print(l1)\n",
    "print(l2)"
   ]
  },
  {
   "cell_type": "markdown",
   "id": "8de9cc91",
   "metadata": {},
   "source": [
    "# Question 2"
   ]
  },
  {
   "cell_type": "markdown",
   "id": "4fd96cd0",
   "metadata": {},
   "source": [
    "Write a code for palindrome using while statement"
   ]
  },
  {
   "cell_type": "code",
   "execution_count": 179,
   "id": "1418b797",
   "metadata": {},
   "outputs": [
    {
     "name": "stdout",
     "output_type": "stream",
     "text": [
      "mudit\n",
      "Not a Palindrome\n"
     ]
    }
   ],
   "source": [
    "n = input()\n",
    "reverse = \"\"\n",
    "start = 0\n",
    "end = len(n)-1\n",
    "while start<=end:\n",
    "    if n[start]!=n[end]:\n",
    "        print('Not a Palindrome')\n",
    "        break\n",
    "    start = start+1\n",
    "    end=end-1\n",
    "else:\n",
    "    print('Palindrome')"
   ]
  },
  {
   "cell_type": "markdown",
   "id": "512f8ed8",
   "metadata": {},
   "source": [
    "# Question 3"
   ]
  },
  {
   "cell_type": "markdown",
   "id": "4b459478",
   "metadata": {},
   "source": [
    "Write a code to sort your string in alphabetical order (DON'T USE SORT FUNCTION)"
   ]
  },
  {
   "cell_type": "code",
   "execution_count": 185,
   "id": "857919f2",
   "metadata": {},
   "outputs": [
    {
     "name": "stdout",
     "output_type": "stream",
     "text": [
      "mudit\n",
      "dimtu\n"
     ]
    }
   ],
   "source": [
    "s = input()\n",
    "sort_string = \"\"\n",
    "l = []\n",
    "for i in s:\n",
    "    l.append(i)\n",
    "for i in range(65,97+26):\n",
    "    if chr(i) in l:\n",
    "        sort_string += chr(i)\n",
    "print(sort_string)"
   ]
  }
 ],
 "metadata": {
  "kernelspec": {
   "display_name": "Python 3",
   "language": "python",
   "name": "python3"
  },
  "language_info": {
   "codemirror_mode": {
    "name": "ipython",
    "version": 3
   },
   "file_extension": ".py",
   "mimetype": "text/x-python",
   "name": "python",
   "nbconvert_exporter": "python",
   "pygments_lexer": "ipython3",
   "version": "3.8.8"
  }
 },
 "nbformat": 4,
 "nbformat_minor": 5
}
