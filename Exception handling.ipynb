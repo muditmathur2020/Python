{
 "cells": [
  {
   "cell_type": "code",
   "execution_count": 1,
   "id": "fc99944b",
   "metadata": {},
   "outputs": [
    {
     "ename": "NameError",
     "evalue": "name 'wjfje2fj' is not defined",
     "output_type": "error",
     "traceback": [
      "\u001b[1;31m---------------------------------------------------------------------------\u001b[0m",
      "\u001b[1;31mNameError\u001b[0m                                 Traceback (most recent call last)",
      "\u001b[1;32m<ipython-input-1-9273b194e113>\u001b[0m in \u001b[0;36m<module>\u001b[1;34m\u001b[0m\n\u001b[1;32m----> 1\u001b[1;33m \u001b[0mwjfje2fj\u001b[0m\u001b[1;33m\u001b[0m\u001b[1;33m\u001b[0m\u001b[0m\n\u001b[0m",
      "\u001b[1;31mNameError\u001b[0m: name 'wjfje2fj' is not defined"
     ]
    }
   ],
   "source": [
    "wjfje2fj"
   ]
  },
  {
   "cell_type": "code",
   "execution_count": 4,
   "id": "bd5c1f89",
   "metadata": {},
   "outputs": [
    {
     "ename": "ZeroDivisionError",
     "evalue": "division by zero",
     "output_type": "error",
     "traceback": [
      "\u001b[1;31m---------------------------------------------------------------------------\u001b[0m",
      "\u001b[1;31mZeroDivisionError\u001b[0m                         Traceback (most recent call last)",
      "\u001b[1;32m<ipython-input-4-b92c77af3696>\u001b[0m in \u001b[0;36m<module>\u001b[1;34m\u001b[0m\n\u001b[1;32m----> 1\u001b[1;33m \u001b[1;36m1\u001b[0m\u001b[1;33m/\u001b[0m\u001b[1;36m0\u001b[0m\u001b[1;33m\u001b[0m\u001b[1;33m\u001b[0m\u001b[0m\n\u001b[0m\u001b[0;32m      2\u001b[0m \u001b[0mprint\u001b[0m\u001b[1;33m(\u001b[0m\u001b[1;34m'This is my prog'\u001b[0m\u001b[1;33m)\u001b[0m\u001b[1;33m\u001b[0m\u001b[1;33m\u001b[0m\u001b[0m\n",
      "\u001b[1;31mZeroDivisionError\u001b[0m: division by zero"
     ]
    }
   ],
   "source": [
    "1/0\n",
    "print('This is my prog')"
   ]
  },
  {
   "cell_type": "code",
   "execution_count": 5,
   "id": "59b75a7e",
   "metadata": {},
   "outputs": [
    {
     "name": "stdout",
     "output_type": "stream",
     "text": [
      "division by zero\n",
      "This is my prog\n"
     ]
    }
   ],
   "source": [
    "try:\n",
    "    1/0\n",
    "except Exception as e:\n",
    "    print(e)\n",
    "print('This is my prog')"
   ]
  },
  {
   "cell_type": "markdown",
   "id": "44dae937",
   "metadata": {},
   "source": [
    "- 'Exception' is a superclass which has all the errors"
   ]
  },
  {
   "cell_type": "code",
   "execution_count": 6,
   "id": "253cc1a6",
   "metadata": {},
   "outputs": [
    {
     "name": "stdout",
     "output_type": "stream",
     "text": [
      "jfirejgiergi\n",
      "This is my prog\n"
     ]
    }
   ],
   "source": [
    "try:\n",
    "    1/0\n",
    "except Exception as e:\n",
    "    print('jfirejgiergi')\n",
    "try:\n",
    "    print('This is my prog')\n",
    "except Exception as e:\n",
    "    print('lfjeogjpo3r')\n",
    "    \n",
    "    "
   ]
  },
  {
   "cell_type": "code",
   "execution_count": 8,
   "id": "ac581ece",
   "metadata": {},
   "outputs": [
    {
     "ename": "FileNotFoundError",
     "evalue": "[Errno 2] No such file or directory: 'text.txt'",
     "output_type": "error",
     "traceback": [
      "\u001b[1;31m---------------------------------------------------------------------------\u001b[0m",
      "\u001b[1;31mFileNotFoundError\u001b[0m                         Traceback (most recent call last)",
      "\u001b[1;32m<ipython-input-8-f1a33683119e>\u001b[0m in \u001b[0;36m<module>\u001b[1;34m\u001b[0m\n\u001b[1;32m----> 1\u001b[1;33m \u001b[0mopen\u001b[0m\u001b[1;33m(\u001b[0m\u001b[1;34m'text.txt'\u001b[0m\u001b[1;33m)\u001b[0m\u001b[1;33m\u001b[0m\u001b[1;33m\u001b[0m\u001b[0m\n\u001b[0m",
      "\u001b[1;31mFileNotFoundError\u001b[0m: [Errno 2] No such file or directory: 'text.txt'"
     ]
    }
   ],
   "source": [
    "open('text.txt')"
   ]
  },
  {
   "cell_type": "code",
   "execution_count": 7,
   "id": "8810aab4",
   "metadata": {},
   "outputs": [
    {
     "data": {
      "text/plain": [
       "'C:\\\\Users\\\\mudit\\\\Desktop\\\\iNeuron'"
      ]
     },
     "execution_count": 7,
     "metadata": {},
     "output_type": "execute_result"
    }
   ],
   "source": [
    "pwd() # Present working directory"
   ]
  },
  {
   "cell_type": "code",
   "execution_count": 12,
   "id": "f9d85437",
   "metadata": {},
   "outputs": [
    {
     "ename": "UnsupportedOperation",
     "evalue": "not writable",
     "output_type": "error",
     "traceback": [
      "\u001b[1;31m---------------------------------------------------------------------------\u001b[0m",
      "\u001b[1;31mUnsupportedOperation\u001b[0m                      Traceback (most recent call last)",
      "\u001b[1;32m<ipython-input-12-0147031b0c39>\u001b[0m in \u001b[0;36m<module>\u001b[1;34m\u001b[0m\n\u001b[0;32m      2\u001b[0m \u001b[1;31m# open('text.txt', 'r')\u001b[0m\u001b[1;33m\u001b[0m\u001b[1;33m\u001b[0m\u001b[1;33m\u001b[0m\u001b[0m\n\u001b[0;32m      3\u001b[0m \u001b[0mf\u001b[0m \u001b[1;33m=\u001b[0m \u001b[0mopen\u001b[0m\u001b[1;33m(\u001b[0m\u001b[1;34m'text.txt'\u001b[0m\u001b[1;33m,\u001b[0m \u001b[1;34m'r'\u001b[0m\u001b[1;33m)\u001b[0m\u001b[1;33m\u001b[0m\u001b[1;33m\u001b[0m\u001b[0m\n\u001b[1;32m----> 4\u001b[1;33m \u001b[0mf\u001b[0m\u001b[1;33m.\u001b[0m\u001b[0mwrite\u001b[0m\u001b[1;33m(\u001b[0m\u001b[1;34m'This is my first file '\u001b[0m\u001b[1;33m)\u001b[0m\u001b[1;33m\u001b[0m\u001b[1;33m\u001b[0m\u001b[0m\n\u001b[0m",
      "\u001b[1;31mUnsupportedOperation\u001b[0m: not writable"
     ]
    }
   ],
   "source": [
    "# open('text.txt', 'w')\n",
    "# open('text.txt', 'r')\n",
    "f = open('text.txt', 'r')\n",
    "f.write('This is my first file ')"
   ]
  },
  {
   "cell_type": "code",
   "execution_count": 13,
   "id": "436b6759",
   "metadata": {},
   "outputs": [
    {
     "data": {
      "text/plain": [
       "22"
      ]
     },
     "execution_count": 13,
     "metadata": {},
     "output_type": "execute_result"
    }
   ],
   "source": [
    "f = open('text.txt', 'w')\n",
    "f.write('This is my first file ')"
   ]
  },
  {
   "cell_type": "code",
   "execution_count": 14,
   "id": "6d11d776",
   "metadata": {},
   "outputs": [
    {
     "name": "stdout",
     "output_type": "stream",
     "text": [
      " Volume in drive C has no label.\n",
      " Volume Serial Number is 6A47-F0C0\n",
      "\n",
      " Directory of C:\\Users\\mudit\\Desktop\\iNeuron\n",
      "\n",
      "03-10-2021  08:38 PM    <DIR>          .\n",
      "03-10-2021  08:38 PM    <DIR>          ..\n",
      "03-10-2021  08:15 PM    <DIR>          .ipynb_checkpoints\n",
      "19-09-2021  03:50 PM    <DIR>          Assignments\n",
      "19-09-2021  10:18 PM            16,239 dictionary.ipynb\n",
      "03-10-2021  08:38 PM             6,654 Exception handling.ipynb\n",
      "26-09-2021  10:02 PM            16,745 Functions, args, kwargs.ipynb\n",
      "12-09-2021  10:07 PM             8,572 if else for while loop and assignment.ipynb\n",
      "11-09-2021  08:39 PM            86,589 indexing .png\n",
      "18-09-2021  10:14 PM            33,647 loops with else, break, continue; String functions.ipynb\n",
      "28-08-2021  06:21 PM            17,973 Python IDE Installation and Basics.ipynb\n",
      "19-09-2021  10:59 PM             3,219 Question Maximum Dict.ipynb\n",
      "28-08-2021  08:18 PM                16 support link.txt\n",
      "03-10-2021  08:38 PM                 0 text.txt\n",
      "11-09-2021  10:15 PM           146,107 Variables and Indexing and strings, list, tuples etc.ipynb\n",
      "              11 File(s)        335,761 bytes\n",
      "               4 Dir(s)  923,548,131,328 bytes free\n"
     ]
    }
   ],
   "source": [
    "ls # List all the files"
   ]
  },
  {
   "cell_type": "code",
   "execution_count": 28,
   "id": "a2d75560",
   "metadata": {},
   "outputs": [
    {
     "name": "stdout",
     "output_type": "stream",
     "text": [
      "Hi\n",
      "division by zero\n",
      "Error in exception 1 block\n"
     ]
    }
   ],
   "source": [
    "try:\n",
    "    1/0\n",
    "except ZeroDivisionError as e:\n",
    "    print('Hi')\n",
    "    print(e)\n",
    "    try:\n",
    "        1/0 # Error in Exception block\n",
    "    except Exception as d:\n",
    "        print('Error in exception 1 block')"
   ]
  },
  {
   "cell_type": "code",
   "execution_count": 27,
   "id": "9c2a9835",
   "metadata": {},
   "outputs": [
    {
     "name": "stdout",
     "output_type": "stream",
     "text": [
      "not writable\n"
     ]
    }
   ],
   "source": [
    "try:\n",
    "    f = open('text.txt', 'r')\n",
    "    f.write('This is my first file ')\n",
    "except Exception as e:\n",
    "    print(e)\n",
    "    "
   ]
  },
  {
   "cell_type": "code",
   "execution_count": 29,
   "id": "8d23e4e8",
   "metadata": {},
   "outputs": [
    {
     "name": "stdout",
     "output_type": "stream",
     "text": [
      "not writable\n"
     ]
    }
   ],
   "source": [
    "try:\n",
    "    f = open('text.txt', 'r')\n",
    "    f.write('This is my first file ')\n",
    "    10/0\n",
    "except IOError as e:\n",
    "    print(e)\n",
    "\n",
    "# This will work, because of error in line 3, it does not even reach to line 4"
   ]
  },
  {
   "cell_type": "code",
   "execution_count": 30,
   "id": "5967807e",
   "metadata": {},
   "outputs": [
    {
     "ename": "ZeroDivisionError",
     "evalue": "division by zero",
     "output_type": "error",
     "traceback": [
      "\u001b[1;31m---------------------------------------------------------------------------\u001b[0m",
      "\u001b[1;31mZeroDivisionError\u001b[0m                         Traceback (most recent call last)",
      "\u001b[1;32m<ipython-input-30-39c8112da93c>\u001b[0m in \u001b[0;36m<module>\u001b[1;34m\u001b[0m\n\u001b[0;32m      1\u001b[0m \u001b[1;32mtry\u001b[0m\u001b[1;33m:\u001b[0m\u001b[1;33m\u001b[0m\u001b[1;33m\u001b[0m\u001b[0m\n\u001b[1;32m----> 2\u001b[1;33m     \u001b[0ma\u001b[0m \u001b[1;33m=\u001b[0m \u001b[1;36m10\u001b[0m\u001b[1;33m/\u001b[0m\u001b[1;36m0\u001b[0m\u001b[1;33m\u001b[0m\u001b[1;33m\u001b[0m\u001b[0m\n\u001b[0m\u001b[0;32m      3\u001b[0m     \u001b[0mf\u001b[0m \u001b[1;33m=\u001b[0m \u001b[0mopen\u001b[0m\u001b[1;33m(\u001b[0m\u001b[1;34m'text.txt'\u001b[0m\u001b[1;33m,\u001b[0m \u001b[1;34m'r'\u001b[0m\u001b[1;33m)\u001b[0m\u001b[1;33m\u001b[0m\u001b[1;33m\u001b[0m\u001b[0m\n\u001b[0;32m      4\u001b[0m     \u001b[0mf\u001b[0m\u001b[1;33m.\u001b[0m\u001b[0mwrite\u001b[0m\u001b[1;33m(\u001b[0m\u001b[1;34m'This is my first file '\u001b[0m\u001b[1;33m)\u001b[0m\u001b[1;33m\u001b[0m\u001b[1;33m\u001b[0m\u001b[0m\n\u001b[0;32m      5\u001b[0m \u001b[1;33m\u001b[0m\u001b[0m\n",
      "\u001b[1;31mZeroDivisionError\u001b[0m: division by zero"
     ]
    }
   ],
   "source": [
    "try:\n",
    "    a = 10/0\n",
    "    f = open('text.txt', 'r')\n",
    "    f.write('This is my first file ')\n",
    "\n",
    "except IOError as e:\n",
    "    print(e)\n",
    "\n",
    "# This proves my above concept  "
   ]
  },
  {
   "cell_type": "code",
   "execution_count": 31,
   "id": "a8d63645",
   "metadata": {},
   "outputs": [
    {
     "name": "stdout",
     "output_type": "stream",
     "text": [
      "division by zero\n"
     ]
    }
   ],
   "source": [
    "try:\n",
    "    a = 10/0\n",
    "    f = open('text.txt', 'r')\n",
    "    f.write('This is my first file ')\n",
    "\n",
    "except IOError as e:\n",
    "    print(e)\n",
    "\n",
    "except ZeroDivisionError as d:\n",
    "    print(d)"
   ]
  },
  {
   "cell_type": "code",
   "execution_count": 36,
   "id": "ad99a476",
   "metadata": {},
   "outputs": [
    {
     "ename": "SyntaxError",
     "evalue": "invalid syntax (<ipython-input-36-75664410b920>, line 6)",
     "output_type": "error",
     "traceback": [
      "\u001b[1;36m  File \u001b[1;32m\"<ipython-input-36-75664410b920>\"\u001b[1;36m, line \u001b[1;32m6\u001b[0m\n\u001b[1;33m    except IOError, ZeroDivisionError as e:\u001b[0m\n\u001b[1;37m                  ^\u001b[0m\n\u001b[1;31mSyntaxError\u001b[0m\u001b[1;31m:\u001b[0m invalid syntax\n"
     ]
    }
   ],
   "source": [
    "try:\n",
    "    a = 10/0\n",
    "    f = open('text.txt', 'r')\n",
    "    f.write('This is my first file ')\n",
    "\n",
    "except IOError, ZeroDivisionError as e:\n",
    "    print(e)\n",
    "\n",
    "except ZeroDivisionError as d:\n",
    "    print(d)"
   ]
  },
  {
   "cell_type": "code",
   "execution_count": 37,
   "id": "4c0f2942",
   "metadata": {},
   "outputs": [
    {
     "name": "stdout",
     "output_type": "stream",
     "text": [
      "division by zero\n"
     ]
    }
   ],
   "source": [
    "try:\n",
    "    a = 10/0\n",
    "    f = open('text.txt', 'r')\n",
    "    f.write('This is my first file ')\n",
    "\n",
    "except IOError as e:\n",
    "    print('This is IO Error')\n",
    "\n",
    "except ZeroDivisionError as d:\n",
    "    print(d) # This will work because of hierarchy\n",
    "\n",
    "except Exception as x:\n",
    "    print('This is parent class')"
   ]
  },
  {
   "cell_type": "markdown",
   "id": "9211dbdf",
   "metadata": {},
   "source": [
    "- Try Except and Else"
   ]
  },
  {
   "cell_type": "code",
   "execution_count": 41,
   "id": "087c8e11",
   "metadata": {},
   "outputs": [
    {
     "name": "stdout",
     "output_type": "stream",
     "text": [
      "3.3333333333333335\n",
      "This will run when try is running successfully\n"
     ]
    }
   ],
   "source": [
    "try:\n",
    "    a = 10/3\n",
    "    print(a)\n",
    "except IOError as e:\n",
    "    print('This is IO Error')\n",
    "\n",
    "except ZeroDivisionError as d:\n",
    "    print(d) # This will work because of hierarchy\n",
    "\n",
    "except Exception as x:\n",
    "    print('This is parent class')\n",
    "    \n",
    "else:\n",
    "    print('This will run when try is running successfully')"
   ]
  },
  {
   "cell_type": "code",
   "execution_count": 42,
   "id": "271cb902",
   "metadata": {},
   "outputs": [
    {
     "name": "stdout",
     "output_type": "stream",
     "text": [
      "mud\n",
      "This is error msg\n",
      "it will execute all the time\n"
     ]
    }
   ],
   "source": [
    "try:\n",
    "    a = int(input())\n",
    "    print(a/67)\n",
    "except :\n",
    "    print('This is error msg')\n",
    "else:\n",
    "    print('On success of try block')\n",
    "finally:\n",
    "    print('it will execute all the time')"
   ]
  },
  {
   "cell_type": "code",
   "execution_count": 48,
   "id": "75558794",
   "metadata": {},
   "outputs": [
    {
     "name": "stdout",
     "output_type": "stream",
     "text": [
      "Enter an integer2feewe\n",
      "Lets try again!\n",
      "Will always run finally(internal)\n",
      "Enter an integer122\n",
      "12.2\n",
      "Will always run finally(outside)\n"
     ]
    }
   ],
   "source": [
    "def askInt():\n",
    "    try:\n",
    "        try:\n",
    "            a = int(input('Enter an integer'))\n",
    "            print(a/10)\n",
    "        except Exception as e:\n",
    "            print('Lets try again!')\n",
    "        finally:\n",
    "            print('Will always run finally(internal)')\n",
    "        a = int(input('Enter an integer'))\n",
    "        print(a/10)\n",
    "    except Exception as e:\n",
    "        print('Error')\n",
    "    finally:\n",
    "        print('Will always run finally(outside)')\n",
    "\n",
    "askInt()"
   ]
  },
  {
   "cell_type": "code",
   "execution_count": 53,
   "id": "5e30eab7",
   "metadata": {},
   "outputs": [],
   "source": [
    "def raiseexception(n):\n",
    "    if n<4:\n",
    "        raise Exception('this is my custom msg',n)\n",
    "    return n\n",
    "    "
   ]
  },
  {
   "cell_type": "code",
   "execution_count": 55,
   "id": "2ef586f6",
   "metadata": {},
   "outputs": [
    {
     "ename": "Exception",
     "evalue": "('this is my custom msg', 2)",
     "output_type": "error",
     "traceback": [
      "\u001b[1;31m---------------------------------------------------------------------------\u001b[0m",
      "\u001b[1;31mException\u001b[0m                                 Traceback (most recent call last)",
      "\u001b[1;32m<ipython-input-55-60ab09d1b13d>\u001b[0m in \u001b[0;36m<module>\u001b[1;34m\u001b[0m\n\u001b[1;32m----> 1\u001b[1;33m \u001b[0mraiseexception\u001b[0m\u001b[1;33m(\u001b[0m\u001b[1;36m2\u001b[0m\u001b[1;33m)\u001b[0m\u001b[1;33m\u001b[0m\u001b[1;33m\u001b[0m\u001b[0m\n\u001b[0m",
      "\u001b[1;32m<ipython-input-53-17b6ca2a04a7>\u001b[0m in \u001b[0;36mraiseexception\u001b[1;34m(n)\u001b[0m\n\u001b[0;32m      1\u001b[0m \u001b[1;32mdef\u001b[0m \u001b[0mraiseexception\u001b[0m\u001b[1;33m(\u001b[0m\u001b[0mn\u001b[0m\u001b[1;33m)\u001b[0m\u001b[1;33m:\u001b[0m\u001b[1;33m\u001b[0m\u001b[1;33m\u001b[0m\u001b[0m\n\u001b[0;32m      2\u001b[0m     \u001b[1;32mif\u001b[0m \u001b[0mn\u001b[0m\u001b[1;33m<\u001b[0m\u001b[1;36m4\u001b[0m\u001b[1;33m:\u001b[0m\u001b[1;33m\u001b[0m\u001b[1;33m\u001b[0m\u001b[0m\n\u001b[1;32m----> 3\u001b[1;33m         \u001b[1;32mraise\u001b[0m \u001b[0mException\u001b[0m\u001b[1;33m(\u001b[0m\u001b[1;34m'this is my custom msg'\u001b[0m\u001b[1;33m,\u001b[0m\u001b[0mn\u001b[0m\u001b[1;33m)\u001b[0m\u001b[1;33m\u001b[0m\u001b[1;33m\u001b[0m\u001b[0m\n\u001b[0m\u001b[0;32m      4\u001b[0m     \u001b[1;32mreturn\u001b[0m \u001b[0mn\u001b[0m\u001b[1;33m\u001b[0m\u001b[1;33m\u001b[0m\u001b[0m\n\u001b[0;32m      5\u001b[0m \u001b[1;33m\u001b[0m\u001b[0m\n",
      "\u001b[1;31mException\u001b[0m: ('this is my custom msg', 2)"
     ]
    }
   ],
   "source": [
    "raiseexception(2)"
   ]
  },
  {
   "cell_type": "markdown",
   "id": "55b126ac",
   "metadata": {},
   "source": [
    "# Task 1\n",
    "- add a program to add int to list, but raise an error with custom message if num is less than 4, and if user is not entering an int, ask him/her to enter a int only. You are suppose to enter only 10 int with this condition"
   ]
  },
  {
   "cell_type": "code",
   "execution_count": 65,
   "id": "6410ddd7",
   "metadata": {},
   "outputs": [
    {
     "name": "stdout",
     "output_type": "stream",
     "text": [
      "Enter int4\n",
      "Enter int2\n",
      "Not an int or is less than 4\n",
      "Enter intefewfewf\n",
      "Not an int or is less than 4\n",
      "Enter intefewfewf\n",
      "Not an int or is less than 4\n",
      "Enter int1\n",
      "Not an int or is less than 4\n",
      "Enter int2\n",
      "Not an int or is less than 4\n",
      "Enter int3\n",
      "Not an int or is less than 4\n",
      "Enter int4\n",
      "Enter int5\n",
      "Enter int6\n",
      "Enter int7\n",
      "Enter int8\n",
      "Enter int9\n",
      "Enter int10\n",
      "Enter int11\n",
      "Enter int2\n",
      "Not an int or is less than 4\n",
      "Enter int3\n",
      "Not an int or is less than 4\n",
      "Enter int7\n",
      "[4, 4, 5, 6, 7, 8, 9, 10, 11, 7]\n"
     ]
    }
   ],
   "source": [
    "def task1():\n",
    "    count = 0\n",
    "    l = []\n",
    "    while count<10:\n",
    "        try:\n",
    "            a = int(input('Enter int'))\n",
    "            if a<4:\n",
    "                raise Exception(a)\n",
    "            l.append(a)\n",
    "            count += 1\n",
    "        except Exception as e:\n",
    "            print('Not an int or is less than 4')\n",
    "            continue\n",
    "    print(l)\n",
    "\n",
    "task1()"
   ]
  },
  {
   "cell_type": "code",
   "execution_count": null,
   "id": "6cccb8ea",
   "metadata": {},
   "outputs": [],
   "source": []
  }
 ],
 "metadata": {
  "kernelspec": {
   "display_name": "Python 3",
   "language": "python",
   "name": "python3"
  },
  "language_info": {
   "codemirror_mode": {
    "name": "ipython",
    "version": 3
   },
   "file_extension": ".py",
   "mimetype": "text/x-python",
   "name": "python",
   "nbconvert_exporter": "python",
   "pygments_lexer": "ipython3",
   "version": "3.8.8"
  }
 },
 "nbformat": 4,
 "nbformat_minor": 5
}
