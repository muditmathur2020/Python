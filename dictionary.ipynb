{
 "cells": [
  {
   "cell_type": "code",
   "execution_count": 1,
   "id": "caf1ad9e",
   "metadata": {},
   "outputs": [],
   "source": [
    "d = {'k1':'mudit','k2':'ineuron','k3':{1:'a',2:'b'}} "
   ]
  },
  {
   "cell_type": "code",
   "execution_count": 2,
   "id": "b573086b",
   "metadata": {},
   "outputs": [
    {
     "data": {
      "text/plain": [
       "{'k1': 'mudit', 'k2': 'ineuron', 'k3': {1: 'a', 2: 'b'}}"
      ]
     },
     "execution_count": 2,
     "metadata": {},
     "output_type": "execute_result"
    }
   ],
   "source": [
    "d"
   ]
  },
  {
   "cell_type": "code",
   "execution_count": 3,
   "id": "5e2eb261",
   "metadata": {},
   "outputs": [
    {
     "name": "stdout",
     "output_type": "stream",
     "text": [
      "k1\n",
      "k2\n",
      "k3\n"
     ]
    }
   ],
   "source": [
    "for i in d:\n",
    "    print(i)"
   ]
  },
  {
   "cell_type": "code",
   "execution_count": 4,
   "id": "7696fa3c",
   "metadata": {},
   "outputs": [
    {
     "data": {
      "text/plain": [
       "dict_values(['mudit', 'ineuron', {1: 'a', 2: 'b'}])"
      ]
     },
     "execution_count": 4,
     "metadata": {},
     "output_type": "execute_result"
    }
   ],
   "source": [
    "d.values()"
   ]
  },
  {
   "cell_type": "code",
   "execution_count": 5,
   "id": "12edf9dc",
   "metadata": {},
   "outputs": [
    {
     "data": {
      "text/plain": [
       "dict_keys(['k1', 'k2', 'k3'])"
      ]
     },
     "execution_count": 5,
     "metadata": {},
     "output_type": "execute_result"
    }
   ],
   "source": [
    "d.keys()"
   ]
  },
  {
   "cell_type": "code",
   "execution_count": 6,
   "id": "4061b56f",
   "metadata": {},
   "outputs": [
    {
     "data": {
      "text/plain": [
       "dict_items([('k1', 'mudit'), ('k2', 'ineuron'), ('k3', {1: 'a', 2: 'b'})])"
      ]
     },
     "execution_count": 6,
     "metadata": {},
     "output_type": "execute_result"
    }
   ],
   "source": [
    "d.items()"
   ]
  },
  {
   "cell_type": "code",
   "execution_count": 7,
   "id": "0d02f2a9",
   "metadata": {},
   "outputs": [
    {
     "name": "stdout",
     "output_type": "stream",
     "text": [
      "mudit\n",
      "ineuron\n",
      "{1: 'a', 2: 'b'}\n"
     ]
    }
   ],
   "source": [
    "for i in d:\n",
    "    print(d[i]) # Print values"
   ]
  },
  {
   "cell_type": "code",
   "execution_count": 9,
   "id": "9297a6fb",
   "metadata": {},
   "outputs": [
    {
     "name": "stdout",
     "output_type": "stream",
     "text": [
      "{1: 'a', 2: 'b'}\n"
     ]
    }
   ],
   "source": [
    "for i in d:\n",
    "    if type(d[i]) == dict: # Print only where value is also a dict\n",
    "        print(d[i])"
   ]
  },
  {
   "cell_type": "code",
   "execution_count": 10,
   "id": "0ff54dce",
   "metadata": {},
   "outputs": [],
   "source": [
    "d['k4']=[6,7,8] # Add elements in dict"
   ]
  },
  {
   "cell_type": "code",
   "execution_count": 11,
   "id": "c1dfe364",
   "metadata": {},
   "outputs": [
    {
     "data": {
      "text/plain": [
       "{'k1': 'mudit', 'k2': 'ineuron', 'k3': {1: 'a', 2: 'b'}, 'k4': [6, 7, 8]}"
      ]
     },
     "execution_count": 11,
     "metadata": {},
     "output_type": "execute_result"
    }
   ],
   "source": [
    "d"
   ]
  },
  {
   "cell_type": "code",
   "execution_count": 12,
   "id": "2c95e04f",
   "metadata": {},
   "outputs": [
    {
     "data": {
      "text/plain": [
       "8"
      ]
     },
     "execution_count": 12,
     "metadata": {},
     "output_type": "execute_result"
    }
   ],
   "source": [
    "d['k4'].pop()"
   ]
  },
  {
   "cell_type": "code",
   "execution_count": 13,
   "id": "d2375a90",
   "metadata": {},
   "outputs": [
    {
     "data": {
      "text/plain": [
       "{'k1': 'mudit', 'k2': 'ineuron', 'k3': {1: 'a', 2: 'b'}, 'k4': [6, 7]}"
      ]
     },
     "execution_count": 13,
     "metadata": {},
     "output_type": "execute_result"
    }
   ],
   "source": [
    "d"
   ]
  },
  {
   "cell_type": "code",
   "execution_count": 15,
   "id": "81fc2463",
   "metadata": {},
   "outputs": [
    {
     "data": {
      "text/plain": [
       "[6, 7]"
      ]
     },
     "execution_count": 15,
     "metadata": {},
     "output_type": "execute_result"
    }
   ],
   "source": [
    "d.pop('k4') # Delete element in dict"
   ]
  },
  {
   "cell_type": "code",
   "execution_count": 16,
   "id": "1283a431",
   "metadata": {},
   "outputs": [
    {
     "data": {
      "text/plain": [
       "{'k1': 'mudit', 'k2': 'ineuron', 'k3': {1: 'a', 2: 'b'}}"
      ]
     },
     "execution_count": 16,
     "metadata": {},
     "output_type": "execute_result"
    }
   ],
   "source": [
    "d"
   ]
  },
  {
   "cell_type": "code",
   "execution_count": 17,
   "id": "b9ff2ea4",
   "metadata": {},
   "outputs": [
    {
     "name": "stdout",
     "output_type": "stream",
     "text": [
      "{0: 0, 1: 1, 2: 4, 3: 9, 4: 16, 5: 25, 6: 36, 7: 49, 8: 64, 9: 81, 10: 100}\n"
     ]
    }
   ],
   "source": [
    "d = {}\n",
    "for i in range(11):\n",
    "    d[i] = i**2\n",
    "print(d)"
   ]
  },
  {
   "cell_type": "code",
   "execution_count": 18,
   "id": "f318e99a",
   "metadata": {},
   "outputs": [
    {
     "data": {
      "text/plain": [
       "{'learning', 'machine'}"
      ]
     },
     "execution_count": 18,
     "metadata": {},
     "output_type": "execute_result"
    }
   ],
   "source": [
    "x = {\"ineuron\", \"machine\", \"learning\"}\n",
    "y = {\"stats\", \"deep learning\", \"computer vision\", \"ineuron\"}\n",
    "x.difference(y) # This will give A-B"
   ]
  },
  {
   "cell_type": "code",
   "execution_count": 19,
   "id": "f383da01",
   "metadata": {},
   "outputs": [
    {
     "data": {
      "text/plain": [
       "{0: 0, 1: 1, 2: 4, 3: 9, 4: 16, 5: 25, 6: 36, 7: 49, 8: 64, 9: 81, 10: 100}"
      ]
     },
     "execution_count": 19,
     "metadata": {},
     "output_type": "execute_result"
    }
   ],
   "source": [
    "# Dicionary Comprehension\n",
    "\n",
    "{i:i**2 for i in range(11)}"
   ]
  },
  {
   "cell_type": "markdown",
   "id": "f7490518",
   "metadata": {},
   "source": [
    "# Question"
   ]
  },
  {
   "cell_type": "code",
   "execution_count": 21,
   "id": "a005ed4b",
   "metadata": {},
   "outputs": [
    {
     "data": {
      "text/plain": [
       "{'i': 'ineuron',\n",
       " 'n': 'ineuron',\n",
       " 'e': 'ineuron',\n",
       " 'u': 'ineuron',\n",
       " 'r': 'ineuron',\n",
       " 'o': 'ineuron'}"
      ]
     },
     "execution_count": 21,
     "metadata": {},
     "output_type": "execute_result"
    }
   ],
   "source": [
    "s = 'ineuron'\n",
    "\n",
    "{i:'ineuron' for i in s}"
   ]
  },
  {
   "cell_type": "markdown",
   "id": "43cd17fa",
   "metadata": {},
   "source": [
    "# Question \n",
    "- Find max in dict values"
   ]
  },
  {
   "cell_type": "code",
   "execution_count": 59,
   "id": "8360f334",
   "metadata": {},
   "outputs": [],
   "source": [
    "d = {'ineuron':{'a':23, 'b':34,'c':56},'course':{'d':45,'e':12},'a':99,'c':True,'d':999.87,'e':[9878,1,2,3],'f':{'abc':[12345,1,2]}}"
   ]
  },
  {
   "cell_type": "code",
   "execution_count": 60,
   "id": "b5de6998",
   "metadata": {},
   "outputs": [
    {
     "data": {
      "text/plain": [
       "{'ineuron': {'a': 23, 'b': 34, 'c': 56},\n",
       " 'course': {'d': 45, 'e': 12},\n",
       " 'a': 99,\n",
       " 'c': True,\n",
       " 'd': 999.87,\n",
       " 'e': [9878, 1, 2, 3],\n",
       " 'f': {'abc': [12345, 1, 2]}}"
      ]
     },
     "execution_count": 60,
     "metadata": {},
     "output_type": "execute_result"
    }
   ],
   "source": [
    "d"
   ]
  },
  {
   "cell_type": "code",
   "execution_count": 61,
   "id": "5d4a6d36",
   "metadata": {},
   "outputs": [
    {
     "ename": "AttributeError",
     "evalue": "'int' object has no attribute 'values'",
     "output_type": "error",
     "traceback": [
      "\u001b[1;31m---------------------------------------------------------------------------\u001b[0m",
      "\u001b[1;31mAttributeError\u001b[0m                            Traceback (most recent call last)",
      "\u001b[1;32m<ipython-input-61-0da7522f6a48>\u001b[0m in \u001b[0;36m<module>\u001b[1;34m\u001b[0m\n\u001b[0;32m      1\u001b[0m \u001b[0mmax_val\u001b[0m \u001b[1;33m=\u001b[0m \u001b[0mfloat\u001b[0m\u001b[1;33m(\u001b[0m\u001b[1;34m'-inf'\u001b[0m\u001b[1;33m)\u001b[0m\u001b[1;33m\u001b[0m\u001b[1;33m\u001b[0m\u001b[0m\n\u001b[0;32m      2\u001b[0m \u001b[1;32mfor\u001b[0m \u001b[0mi\u001b[0m \u001b[1;32min\u001b[0m \u001b[0md\u001b[0m\u001b[1;33m.\u001b[0m\u001b[0mvalues\u001b[0m\u001b[1;33m(\u001b[0m\u001b[1;33m)\u001b[0m\u001b[1;33m:\u001b[0m\u001b[1;33m\u001b[0m\u001b[1;33m\u001b[0m\u001b[0m\n\u001b[1;32m----> 3\u001b[1;33m     \u001b[1;32mfor\u001b[0m \u001b[0mj\u001b[0m \u001b[1;32min\u001b[0m \u001b[0mi\u001b[0m\u001b[1;33m.\u001b[0m\u001b[0mvalues\u001b[0m\u001b[1;33m(\u001b[0m\u001b[1;33m)\u001b[0m\u001b[1;33m:\u001b[0m\u001b[1;33m\u001b[0m\u001b[1;33m\u001b[0m\u001b[0m\n\u001b[0m\u001b[0;32m      4\u001b[0m         \u001b[1;32mif\u001b[0m \u001b[0mmax_val\u001b[0m\u001b[1;33m<\u001b[0m\u001b[0mj\u001b[0m\u001b[1;33m:\u001b[0m\u001b[1;33m\u001b[0m\u001b[1;33m\u001b[0m\u001b[0m\n\u001b[0;32m      5\u001b[0m             \u001b[0mmax_val\u001b[0m \u001b[1;33m=\u001b[0m \u001b[0mj\u001b[0m\u001b[1;33m\u001b[0m\u001b[1;33m\u001b[0m\u001b[0m\n",
      "\u001b[1;31mAttributeError\u001b[0m: 'int' object has no attribute 'values'"
     ]
    }
   ],
   "source": [
    "max_val = float('-inf')\n",
    "for i in d.values():\n",
    "    for j in i.values():\n",
    "        if max_val<j:\n",
    "            max_val = j\n",
    "print(max_val)"
   ]
  },
  {
   "cell_type": "code",
   "execution_count": 62,
   "id": "3bcd18d7",
   "metadata": {},
   "outputs": [
    {
     "ename": "TypeError",
     "evalue": "'>' not supported between instances of 'list' and 'int'",
     "output_type": "error",
     "traceback": [
      "\u001b[1;31m---------------------------------------------------------------------------\u001b[0m",
      "\u001b[1;31mTypeError\u001b[0m                                 Traceback (most recent call last)",
      "\u001b[1;32m<ipython-input-62-e44935d93e16>\u001b[0m in \u001b[0;36m<module>\u001b[1;34m\u001b[0m\n\u001b[0;32m      8\u001b[0m     \u001b[1;32melif\u001b[0m \u001b[0mtype\u001b[0m\u001b[1;33m(\u001b[0m\u001b[0mi\u001b[0m\u001b[1;33m)\u001b[0m\u001b[1;33m==\u001b[0m\u001b[0mdict\u001b[0m\u001b[1;33m:\u001b[0m\u001b[1;33m\u001b[0m\u001b[1;33m\u001b[0m\u001b[0m\n\u001b[0;32m      9\u001b[0m         \u001b[0ml\u001b[0m \u001b[1;33m=\u001b[0m \u001b[1;33m[\u001b[0m\u001b[0mj\u001b[0m \u001b[1;32mfor\u001b[0m \u001b[0mj\u001b[0m \u001b[1;32min\u001b[0m \u001b[0mi\u001b[0m\u001b[1;33m.\u001b[0m\u001b[0mvalues\u001b[0m\u001b[1;33m(\u001b[0m\u001b[1;33m)\u001b[0m\u001b[1;33m]\u001b[0m\u001b[1;33m\u001b[0m\u001b[1;33m\u001b[0m\u001b[0m\n\u001b[1;32m---> 10\u001b[1;33m         \u001b[1;32mif\u001b[0m \u001b[0mmax\u001b[0m\u001b[1;33m(\u001b[0m\u001b[0ml\u001b[0m\u001b[1;33m)\u001b[0m\u001b[1;33m>\u001b[0m\u001b[0mmaxi\u001b[0m\u001b[1;33m:\u001b[0m\u001b[1;33m\u001b[0m\u001b[1;33m\u001b[0m\u001b[0m\n\u001b[0m\u001b[0;32m     11\u001b[0m             \u001b[0mmaxi\u001b[0m\u001b[1;33m=\u001b[0m\u001b[0mmax\u001b[0m\u001b[1;33m(\u001b[0m\u001b[0ml\u001b[0m\u001b[1;33m)\u001b[0m\u001b[1;33m\u001b[0m\u001b[1;33m\u001b[0m\u001b[0m\n\u001b[0;32m     12\u001b[0m     \u001b[1;32melif\u001b[0m \u001b[0mtype\u001b[0m\u001b[1;33m(\u001b[0m\u001b[0mi\u001b[0m\u001b[1;33m)\u001b[0m\u001b[1;33m==\u001b[0m\u001b[0mlist\u001b[0m\u001b[1;33m:\u001b[0m\u001b[1;33m\u001b[0m\u001b[1;33m\u001b[0m\u001b[0m\n",
      "\u001b[1;31mTypeError\u001b[0m: '>' not supported between instances of 'list' and 'int'"
     ]
    }
   ],
   "source": [
    "# Better version\n",
    "\n",
    "maxi = float('-inf')\n",
    "for i in d.values():\n",
    "    if type(i)==int or type(i)==float:\n",
    "        if maxi<i:\n",
    "            maxi=i\n",
    "    elif type(i)==dict:\n",
    "        l = [j for j in i.values()]\n",
    "        if max(l)>maxi:\n",
    "            maxi=max(l)\n",
    "    elif type(i)==list:\n",
    "        if max(i)>maxi:\n",
    "            maxi=max(i)\n",
    "print(maxi)"
   ]
  },
  {
   "cell_type": "markdown",
   "id": "482d71b6",
   "metadata": {},
   "source": [
    "# 11:38"
   ]
  },
  {
   "cell_type": "code",
   "execution_count": 76,
   "id": "ad3884ba",
   "metadata": {},
   "outputs": [],
   "source": [
    "d9 = {\"ineuron\":{'a':23,'b':34,'c':{'r':345678975}},'course':{'d':45,'e':12},'xyz':99,'a':[1,2,3,4,5667,878],'s':{3,4,5,6,6001},'f':4555555.1,'g':True}"
   ]
  },
  {
   "cell_type": "code",
   "execution_count": 81,
   "id": "7263db18",
   "metadata": {},
   "outputs": [],
   "source": [
    "d = d9"
   ]
  },
  {
   "cell_type": "code",
   "execution_count": 82,
   "id": "ad6b2406",
   "metadata": {},
   "outputs": [
    {
     "data": {
      "text/plain": [
       "dict_values([{'a': 23, 'b': 34, 'c': {'r': 345678975}}, {'d': 45, 'e': 12}, 99, [1, 2, 3, 4, 5667, 878], {3, 4, 5, 6, 6001}, 4555555.1, True])"
      ]
     },
     "execution_count": 82,
     "metadata": {},
     "output_type": "execute_result"
    }
   ],
   "source": [
    "d.values()"
   ]
  },
  {
   "cell_type": "code",
   "execution_count": 100,
   "id": "420b468e",
   "metadata": {},
   "outputs": [
    {
     "name": "stdout",
     "output_type": "stream",
     "text": [
      "345678975\n"
     ]
    }
   ],
   "source": [
    "# Better version\n",
    "maxi = float('-inf')\n",
    "for i in d.values():\n",
    "    if type(i)==int or type(i)==float:\n",
    "        if maxi<i:\n",
    "            maxi=i\n",
    "            \n",
    "    elif type(i)==bool:\n",
    "        continue\n",
    "        \n",
    "    elif type(i)==dict:\n",
    "        l = [j for j in i.values()]\n",
    "        for lists in l:\n",
    "            if type(lists)==int or type(lists)==float or type(lists)==bool:\n",
    "                break\n",
    "            if max(lists)>maxi:\n",
    "                maxi=max(lists)\n",
    "        for x in l:\n",
    "            if type(x)==list or type(x)==dict or type(x)==set or type(x)==tuple:\n",
    "                if maxi<max(x.values()) and ( type(max(x.values())==int) or type(max(x.values())==float) ):\n",
    "                    maxi=max(x.values())\n",
    "            \n",
    "    elif type(i)==list:\n",
    "        if max(i)>maxi:\n",
    "            maxi=max(i)\n",
    "            \n",
    "    elif type(i)==tuple:\n",
    "        if max(i)>maxi:\n",
    "            maxi=max(i)\n",
    "    \n",
    "    elif type(i)==set:\n",
    "        if max(i)>maxi:\n",
    "            maxi=max(i)\n",
    "    \n",
    "    \n",
    "print(maxi)"
   ]
  },
  {
   "cell_type": "code",
   "execution_count": 87,
   "id": "427169e0",
   "metadata": {},
   "outputs": [
    {
     "data": {
      "text/plain": [
       "True"
      ]
     },
     "execution_count": 87,
     "metadata": {},
     "output_type": "execute_result"
    }
   ],
   "source": [
    "345678975>4555555.1"
   ]
  },
  {
   "cell_type": "code",
   "execution_count": 89,
   "id": "86a11e92",
   "metadata": {},
   "outputs": [],
   "source": [
    "k = {'a':123,'b':11}"
   ]
  },
  {
   "cell_type": "code",
   "execution_count": 91,
   "id": "7ed9a291",
   "metadata": {},
   "outputs": [
    {
     "data": {
      "text/plain": [
       "123"
      ]
     },
     "execution_count": 91,
     "metadata": {},
     "output_type": "execute_result"
    }
   ],
   "source": [
    "max(k.values())"
   ]
  },
  {
   "cell_type": "code",
   "execution_count": null,
   "id": "266c1278",
   "metadata": {},
   "outputs": [],
   "source": []
  }
 ],
 "metadata": {
  "kernelspec": {
   "display_name": "Python 3",
   "language": "python",
   "name": "python3"
  },
  "language_info": {
   "codemirror_mode": {
    "name": "ipython",
    "version": 3
   },
   "file_extension": ".py",
   "mimetype": "text/x-python",
   "name": "python",
   "nbconvert_exporter": "python",
   "pygments_lexer": "ipython3",
   "version": "3.8.8"
  }
 },
 "nbformat": 4,
 "nbformat_minor": 5
}
