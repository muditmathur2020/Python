{
 "cells": [
  {
   "cell_type": "code",
   "execution_count": 2,
   "id": "a7dd9103",
   "metadata": {},
   "outputs": [
    {
     "data": {
      "text/plain": [
       "6"
      ]
     },
     "execution_count": 2,
     "metadata": {},
     "output_type": "execute_result"
    }
   ],
   "source": [
    "l = [1,2,3,4,5,6]\n",
    "len(l)"
   ]
  },
  {
   "cell_type": "code",
   "execution_count": 3,
   "id": "692fb6fa",
   "metadata": {},
   "outputs": [
    {
     "name": "stdout",
     "output_type": "stream",
     "text": [
      "THis is print\n"
     ]
    }
   ],
   "source": [
    "print('THis is print')"
   ]
  },
  {
   "cell_type": "code",
   "execution_count": 4,
   "id": "f608d0fc",
   "metadata": {},
   "outputs": [
    {
     "data": {
      "text/plain": [
       "list"
      ]
     },
     "execution_count": 4,
     "metadata": {},
     "output_type": "execute_result"
    }
   ],
   "source": [
    "type(l)"
   ]
  },
  {
   "cell_type": "code",
   "execution_count": 5,
   "id": "039748c1",
   "metadata": {},
   "outputs": [],
   "source": [
    "def test():\n",
    "    pass"
   ]
  },
  {
   "cell_type": "code",
   "execution_count": 6,
   "id": "f4270884",
   "metadata": {},
   "outputs": [],
   "source": [
    "def mudit():\n",
    "    print('Mudit')"
   ]
  },
  {
   "cell_type": "code",
   "execution_count": 7,
   "id": "b463c07d",
   "metadata": {},
   "outputs": [
    {
     "name": "stdout",
     "output_type": "stream",
     "text": [
      "Mudit\n"
     ]
    }
   ],
   "source": [
    "mudit()"
   ]
  },
  {
   "cell_type": "code",
   "execution_count": 8,
   "id": "08a84815",
   "metadata": {},
   "outputs": [
    {
     "name": "stdout",
     "output_type": "stream",
     "text": [
      "Mudit\n"
     ]
    }
   ],
   "source": [
    "mudit()"
   ]
  },
  {
   "cell_type": "code",
   "execution_count": 9,
   "id": "1bd572d4",
   "metadata": {},
   "outputs": [
    {
     "name": "stdout",
     "output_type": "stream",
     "text": [
      "Mudit\n"
     ]
    }
   ],
   "source": [
    "mudit()"
   ]
  },
  {
   "cell_type": "code",
   "execution_count": 10,
   "id": "642ab425",
   "metadata": {},
   "outputs": [],
   "source": [
    "def test3(a,b):\n",
    "    print(a+b)"
   ]
  },
  {
   "cell_type": "code",
   "execution_count": 11,
   "id": "90dbb57e",
   "metadata": {},
   "outputs": [
    {
     "name": "stdout",
     "output_type": "stream",
     "text": [
      "6\n"
     ]
    }
   ],
   "source": [
    "test3(2,4)"
   ]
  },
  {
   "cell_type": "code",
   "execution_count": 12,
   "id": "74e3c85a",
   "metadata": {},
   "outputs": [
    {
     "name": "stdout",
     "output_type": "stream",
     "text": [
      "sudhkumar\n"
     ]
    }
   ],
   "source": [
    "test3('sudh','kumar')"
   ]
  },
  {
   "cell_type": "code",
   "execution_count": 13,
   "id": "ec246585",
   "metadata": {},
   "outputs": [
    {
     "ename": "TypeError",
     "evalue": "unsupported operand type(s) for +: 'int' and 'str'",
     "output_type": "error",
     "traceback": [
      "\u001b[1;31m---------------------------------------------------------------------------\u001b[0m",
      "\u001b[1;31mTypeError\u001b[0m                                 Traceback (most recent call last)",
      "\u001b[1;32m<ipython-input-13-0c1972fd0970>\u001b[0m in \u001b[0;36m<module>\u001b[1;34m\u001b[0m\n\u001b[1;32m----> 1\u001b[1;33m \u001b[0mtest3\u001b[0m\u001b[1;33m(\u001b[0m\u001b[1;36m4\u001b[0m\u001b[1;33m,\u001b[0m\u001b[1;34m'sudh'\u001b[0m\u001b[1;33m)\u001b[0m\u001b[1;33m\u001b[0m\u001b[1;33m\u001b[0m\u001b[0m\n\u001b[0m",
      "\u001b[1;32m<ipython-input-10-3a1467188027>\u001b[0m in \u001b[0;36mtest3\u001b[1;34m(a, b)\u001b[0m\n\u001b[0;32m      1\u001b[0m \u001b[1;32mdef\u001b[0m \u001b[0mtest3\u001b[0m\u001b[1;33m(\u001b[0m\u001b[0ma\u001b[0m\u001b[1;33m,\u001b[0m\u001b[0mb\u001b[0m\u001b[1;33m)\u001b[0m\u001b[1;33m:\u001b[0m\u001b[1;33m\u001b[0m\u001b[1;33m\u001b[0m\u001b[0m\n\u001b[1;32m----> 2\u001b[1;33m     \u001b[0mprint\u001b[0m\u001b[1;33m(\u001b[0m\u001b[0ma\u001b[0m\u001b[1;33m+\u001b[0m\u001b[0mb\u001b[0m\u001b[1;33m)\u001b[0m\u001b[1;33m\u001b[0m\u001b[1;33m\u001b[0m\u001b[0m\n\u001b[0m",
      "\u001b[1;31mTypeError\u001b[0m: unsupported operand type(s) for +: 'int' and 'str'"
     ]
    }
   ],
   "source": [
    "test3(4,'sudh')"
   ]
  },
  {
   "cell_type": "code",
   "execution_count": 14,
   "id": "d71f94ef",
   "metadata": {},
   "outputs": [
    {
     "name": "stdout",
     "output_type": "stream",
     "text": [
      "4sudh\n"
     ]
    }
   ],
   "source": [
    "test3(str(4),'sudh')"
   ]
  },
  {
   "cell_type": "code",
   "execution_count": 16,
   "id": "ec8da5bb",
   "metadata": {},
   "outputs": [],
   "source": [
    "def test4(a,b):\n",
    "    if type(a)!=str:\n",
    "        print(str(a)+b)\n",
    "    else:\n",
    "        print(a+b)"
   ]
  },
  {
   "cell_type": "code",
   "execution_count": 17,
   "id": "fa7fa4ef",
   "metadata": {},
   "outputs": [
    {
     "name": "stdout",
     "output_type": "stream",
     "text": [
      "4mudit\n"
     ]
    }
   ],
   "source": [
    "test4(4,'mudit')"
   ]
  },
  {
   "cell_type": "code",
   "execution_count": 23,
   "id": "ba617dcb",
   "metadata": {},
   "outputs": [],
   "source": [
    "def test4(a,b):\n",
    "    if type(a)!=str and type(b)==str:\n",
    "        return str(a)+b\n",
    "    else:\n",
    "        return a+b"
   ]
  },
  {
   "cell_type": "code",
   "execution_count": 24,
   "id": "016b5fa9",
   "metadata": {},
   "outputs": [
    {
     "data": {
      "text/plain": [
       "str"
      ]
     },
     "execution_count": 24,
     "metadata": {},
     "output_type": "execute_result"
    }
   ],
   "source": [
    "type(test4(4,'mudit'))"
   ]
  },
  {
   "cell_type": "code",
   "execution_count": 25,
   "id": "ccc8a5a2",
   "metadata": {},
   "outputs": [
    {
     "data": {
      "text/plain": [
       "int"
      ]
     },
     "execution_count": 25,
     "metadata": {},
     "output_type": "execute_result"
    }
   ],
   "source": [
    "type(test4(1,2))"
   ]
  },
  {
   "cell_type": "code",
   "execution_count": 26,
   "id": "b3cac38b",
   "metadata": {},
   "outputs": [],
   "source": [
    "def test5(a,b,c):\n",
    "    return a+3,b+3,c+3,a+b+c"
   ]
  },
  {
   "cell_type": "code",
   "execution_count": 30,
   "id": "7292790c",
   "metadata": {},
   "outputs": [
    {
     "data": {
      "text/plain": [
       "(4, 5, 6, 6)"
      ]
     },
     "execution_count": 30,
     "metadata": {},
     "output_type": "execute_result"
    }
   ],
   "source": [
    "n=test5(1,2,3)\n",
    "n"
   ]
  },
  {
   "cell_type": "code",
   "execution_count": 28,
   "id": "f6e2b1c7",
   "metadata": {},
   "outputs": [],
   "source": [
    "# Both techniques work\n",
    "\n",
    "a = 10\n",
    "b = 4\n",
    "c = 'mudit'\n",
    "d = 3.14"
   ]
  },
  {
   "cell_type": "code",
   "execution_count": 29,
   "id": "1ba7c42b",
   "metadata": {},
   "outputs": [],
   "source": [
    "a,b,c,d = 10,4,'mudit',3.14"
   ]
  },
  {
   "cell_type": "code",
   "execution_count": 31,
   "id": "a551abf5",
   "metadata": {},
   "outputs": [
    {
     "data": {
      "text/plain": [
       "(4, 5, 6, 6)"
      ]
     },
     "execution_count": 31,
     "metadata": {},
     "output_type": "execute_result"
    }
   ],
   "source": [
    "n"
   ]
  },
  {
   "cell_type": "code",
   "execution_count": 32,
   "id": "0158259f",
   "metadata": {},
   "outputs": [],
   "source": [
    "x,y,z,w = test5(1,2,3)"
   ]
  },
  {
   "cell_type": "code",
   "execution_count": 33,
   "id": "d92fef3e",
   "metadata": {},
   "outputs": [],
   "source": [
    "_,_,t,_ = test5(1,2,3)"
   ]
  },
  {
   "cell_type": "code",
   "execution_count": 34,
   "id": "abbe524e",
   "metadata": {},
   "outputs": [
    {
     "data": {
      "text/plain": [
       "6"
      ]
     },
     "execution_count": 34,
     "metadata": {},
     "output_type": "execute_result"
    }
   ],
   "source": [
    "t"
   ]
  },
  {
   "cell_type": "code",
   "execution_count": 35,
   "id": "94bc3e41",
   "metadata": {},
   "outputs": [
    {
     "data": {
      "text/plain": [
       "6"
      ]
     },
     "execution_count": 35,
     "metadata": {},
     "output_type": "execute_result"
    }
   ],
   "source": [
    "test5(1,2,3)[2]"
   ]
  },
  {
   "cell_type": "code",
   "execution_count": 36,
   "id": "132700a5",
   "metadata": {},
   "outputs": [],
   "source": [
    "# Docstring \n",
    "\n",
    "def test8(a,b,c=0):\n",
    "    '''\n",
    "    Add max three numbers at a time\n",
    "    '''\n",
    "    return a+b+c"
   ]
  },
  {
   "cell_type": "code",
   "execution_count": 37,
   "id": "d96c7ac7",
   "metadata": {},
   "outputs": [
    {
     "data": {
      "text/plain": [
       "30"
      ]
     },
     "execution_count": 37,
     "metadata": {},
     "output_type": "execute_result"
    }
   ],
   "source": [
    "test8(10,20)"
   ]
  },
  {
   "cell_type": "code",
   "execution_count": 41,
   "id": "7c01416e",
   "metadata": {},
   "outputs": [],
   "source": [
    "def test9(a=10,b=6):\n",
    "    return a,b"
   ]
  },
  {
   "cell_type": "code",
   "execution_count": 42,
   "id": "b06fae8e",
   "metadata": {},
   "outputs": [
    {
     "data": {
      "text/plain": [
       "(4, 6)"
      ]
     },
     "execution_count": 42,
     "metadata": {},
     "output_type": "execute_result"
    }
   ],
   "source": [
    "test9(4)"
   ]
  },
  {
   "cell_type": "code",
   "execution_count": 43,
   "id": "f567d711",
   "metadata": {},
   "outputs": [
    {
     "data": {
      "text/plain": [
       "('mudit', 89)"
      ]
     },
     "execution_count": 43,
     "metadata": {},
     "output_type": "execute_result"
    }
   ],
   "source": [
    "test9('mudit',89)"
   ]
  },
  {
   "cell_type": "code",
   "execution_count": 44,
   "id": "502dc189",
   "metadata": {},
   "outputs": [],
   "source": [
    "def test11(*args):\n",
    "    return args"
   ]
  },
  {
   "cell_type": "code",
   "execution_count": 45,
   "id": "060e527a",
   "metadata": {},
   "outputs": [
    {
     "data": {
      "text/plain": [
       "(1, 2, 3, 4, 5, 6)"
      ]
     },
     "execution_count": 45,
     "metadata": {},
     "output_type": "execute_result"
    }
   ],
   "source": [
    "test11(1,2,3,4,5,6)"
   ]
  },
  {
   "cell_type": "code",
   "execution_count": 46,
   "id": "61a976f6",
   "metadata": {},
   "outputs": [
    {
     "data": {
      "text/plain": [
       "('mudit', 'mathur')"
      ]
     },
     "execution_count": 46,
     "metadata": {},
     "output_type": "execute_result"
    }
   ],
   "source": [
    "test11('mudit','mathur')"
   ]
  },
  {
   "cell_type": "code",
   "execution_count": 48,
   "id": "65123488",
   "metadata": {},
   "outputs": [
    {
     "data": {
      "text/plain": [
       "(1, 'mathur')"
      ]
     },
     "execution_count": 48,
     "metadata": {},
     "output_type": "execute_result"
    }
   ],
   "source": [
    "test11(1,'mathur')"
   ]
  },
  {
   "cell_type": "code",
   "execution_count": 49,
   "id": "0ac00598",
   "metadata": {},
   "outputs": [],
   "source": [
    "def test12(*args):\n",
    "    con =''\n",
    "    for i in args:\n",
    "        if type(i)==str:\n",
    "            con += i\n",
    "    return con"
   ]
  },
  {
   "cell_type": "code",
   "execution_count": 50,
   "id": "6402941b",
   "metadata": {},
   "outputs": [
    {
     "data": {
      "text/plain": [
       "'muditmathurcool'"
      ]
     },
     "execution_count": 50,
     "metadata": {},
     "output_type": "execute_result"
    }
   ],
   "source": [
    "test12('mudit',1,2,3,4,5,'mathur','cool')"
   ]
  },
  {
   "cell_type": "code",
   "execution_count": 51,
   "id": "afda624b",
   "metadata": {},
   "outputs": [],
   "source": [
    "def test13(*args, a,b,c,d):\n",
    "    return args, a,b,c,d"
   ]
  },
  {
   "cell_type": "code",
   "execution_count": 52,
   "id": "317f86fd",
   "metadata": {},
   "outputs": [
    {
     "ename": "TypeError",
     "evalue": "test13() missing 4 required keyword-only arguments: 'a', 'b', 'c', and 'd'",
     "output_type": "error",
     "traceback": [
      "\u001b[1;31m---------------------------------------------------------------------------\u001b[0m",
      "\u001b[1;31mTypeError\u001b[0m                                 Traceback (most recent call last)",
      "\u001b[1;32m<ipython-input-52-0d944cba99c7>\u001b[0m in \u001b[0;36m<module>\u001b[1;34m\u001b[0m\n\u001b[1;32m----> 1\u001b[1;33m \u001b[0mtest13\u001b[0m\u001b[1;33m(\u001b[0m\u001b[1;36m1\u001b[0m\u001b[1;33m,\u001b[0m\u001b[1;36m2\u001b[0m\u001b[1;33m,\u001b[0m\u001b[1;36m3\u001b[0m\u001b[1;33m,\u001b[0m\u001b[1;36m4\u001b[0m\u001b[1;33m,\u001b[0m\u001b[1;36m5\u001b[0m\u001b[1;33m,\u001b[0m\u001b[1;36m6\u001b[0m\u001b[1;33m,\u001b[0m\u001b[1;36m7\u001b[0m\u001b[1;33m,\u001b[0m\u001b[1;36m8\u001b[0m\u001b[1;33m,\u001b[0m\u001b[1;36m9\u001b[0m\u001b[1;33m)\u001b[0m\u001b[1;33m\u001b[0m\u001b[1;33m\u001b[0m\u001b[0m\n\u001b[0m",
      "\u001b[1;31mTypeError\u001b[0m: test13() missing 4 required keyword-only arguments: 'a', 'b', 'c', and 'd'"
     ]
    }
   ],
   "source": [
    "test13(1,2,3,4,5,6,7,8,9)\n",
    "\n",
    "#This gives a issue due to *args is taking all\n",
    "# Now to fix it keep all variables in front OR use the code below"
   ]
  },
  {
   "cell_type": "code",
   "execution_count": 53,
   "id": "2a6d47ca",
   "metadata": {},
   "outputs": [
    {
     "data": {
      "text/plain": [
       "((1, 2, 3, 4, 5), 6, 7, 8, 9)"
      ]
     },
     "execution_count": 53,
     "metadata": {},
     "output_type": "execute_result"
    }
   ],
   "source": [
    "test13(1,2,3,4,5,a=6,b=7,c=8,d=9)\n"
   ]
  },
  {
   "cell_type": "code",
   "execution_count": 54,
   "id": "3ef2ef6e",
   "metadata": {},
   "outputs": [],
   "source": [
    "def test14(**kwargs): # Keyword Arguement (Returns Dictionary)\n",
    "    return kwargs"
   ]
  },
  {
   "cell_type": "code",
   "execution_count": 55,
   "id": "eedec274",
   "metadata": {},
   "outputs": [
    {
     "ename": "TypeError",
     "evalue": "test14() takes 0 positional arguments but 5 were given",
     "output_type": "error",
     "traceback": [
      "\u001b[1;31m---------------------------------------------------------------------------\u001b[0m",
      "\u001b[1;31mTypeError\u001b[0m                                 Traceback (most recent call last)",
      "\u001b[1;32m<ipython-input-55-8c1bd9a736a7>\u001b[0m in \u001b[0;36m<module>\u001b[1;34m\u001b[0m\n\u001b[1;32m----> 1\u001b[1;33m \u001b[0mtest14\u001b[0m\u001b[1;33m(\u001b[0m\u001b[1;36m1\u001b[0m\u001b[1;33m,\u001b[0m\u001b[1;36m2\u001b[0m\u001b[1;33m,\u001b[0m\u001b[1;36m3\u001b[0m\u001b[1;33m,\u001b[0m\u001b[1;36m4\u001b[0m\u001b[1;33m,\u001b[0m\u001b[1;36m5\u001b[0m\u001b[1;33m)\u001b[0m\u001b[1;33m\u001b[0m\u001b[1;33m\u001b[0m\u001b[0m\n\u001b[0m",
      "\u001b[1;31mTypeError\u001b[0m: test14() takes 0 positional arguments but 5 were given"
     ]
    }
   ],
   "source": [
    "test14(1,2,3,4,5)"
   ]
  },
  {
   "cell_type": "code",
   "execution_count": 57,
   "id": "33deee82",
   "metadata": {},
   "outputs": [
    {
     "data": {
      "text/plain": [
       "{'name': 'Mudit', 'age': 22}"
      ]
     },
     "execution_count": 57,
     "metadata": {},
     "output_type": "execute_result"
    }
   ],
   "source": [
    "test14(name='Mudit',age=22)"
   ]
  },
  {
   "cell_type": "code",
   "execution_count": 69,
   "id": "e59a67e3",
   "metadata": {},
   "outputs": [],
   "source": [
    "def test15(**kwargs):\n",
    "    l = [1,2,3,4,5,'mudit']\n",
    "    for k,v in kwargs.items():\n",
    "        if v == l:\n",
    "            return k\n",
    "    return 'not found'"
   ]
  },
  {
   "cell_type": "code",
   "execution_count": 70,
   "id": "4f93c19d",
   "metadata": {},
   "outputs": [
    {
     "data": {
      "text/plain": [
       "'b'"
      ]
     },
     "execution_count": 70,
     "metadata": {},
     "output_type": "execute_result"
    }
   ],
   "source": [
    "test15(a=[1,33,4,5,'mudit'],b=[1,2,3,4,5,'mudit'])"
   ]
  },
  {
   "cell_type": "code",
   "execution_count": null,
   "id": "7a044053",
   "metadata": {},
   "outputs": [],
   "source": []
  }
 ],
 "metadata": {
  "kernelspec": {
   "display_name": "Python 3",
   "language": "python",
   "name": "python3"
  },
  "language_info": {
   "codemirror_mode": {
    "name": "ipython",
    "version": 3
   },
   "file_extension": ".py",
   "mimetype": "text/x-python",
   "name": "python",
   "nbconvert_exporter": "python",
   "pygments_lexer": "ipython3",
   "version": "3.8.8"
  }
 },
 "nbformat": 4,
 "nbformat_minor": 5
}
